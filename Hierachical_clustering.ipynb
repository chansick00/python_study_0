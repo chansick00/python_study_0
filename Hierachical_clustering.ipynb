{
 "cells": [
  {
   "cell_type": "code",
   "execution_count": 6,
   "id": "6b89de07",
   "metadata": {},
   "outputs": [],
   "source": [
    "import sklearn as sk\n",
    "import numpy as np\n",
    "import scipy as sp\n",
    "import matplotlib.pylab as plt"
   ]
  },
  {
   "cell_type": "code",
   "execution_count": 10,
   "id": "01de2398",
   "metadata": {},
   "outputs": [
    {
     "data": {
      "image/png": "[encoded data removed]",
      "text/plain": [
       "<Figure size 864x72 with 20 Axes>"
      ]
     },
     "metadata": {},
     "output_type": "display_data"
    }
   ],
   "source": [
    "from sklearn.datasets import load_digits\n",
    "\n",
    "digits = load_digits()\n",
    "n_image = 20\n",
    "np.random.seed(0)\n",
    "idx = np.random.choice(range(len(digits.images)), n_image)\n",
    "X = digits.data[idx]\n",
    "images = digits.images[idx]\n",
    "\n",
    "plt.figure(figsize=(12, 1))\n",
    "for i in range(n_image):\n",
    "    plt.subplot(1, n_image, i + 1)\n",
    "    plt.imshow(images[i], cmap=plt.cm.bone)\n",
    "    plt.xticks(())\n",
    "    plt.yticks(())\n",
    "    plt.title(i)"
   ]
  },
  {
   "cell_type": "code",
   "execution_count": 11,
   "id": "d0f440ef",
   "metadata": {},
   "outputs": [
    {
     "data": {
      "text/plain": [
       "array([[ 3.        , 18.        , 23.51595203,  2.        ],\n",
       "       [13.        , 19.        , 25.27844932,  2.        ],\n",
       "       [ 1.        , 14.        , 28.67054237,  2.        ],\n",
       "       [17.        , 21.        , 31.04298096,  3.        ],\n",
       "       [ 4.        ,  7.        , 31.51190251,  2.        ],\n",
       "       [ 6.        ,  8.        , 32.54228019,  2.        ],\n",
       "       [ 9.        , 10.        , 33.36165464,  2.        ],\n",
       "       [ 0.        , 24.        , 34.51086785,  3.        ],\n",
       "       [ 2.        , 22.        , 37.03151811,  3.        ],\n",
       "       [11.        , 26.        , 43.25505751,  3.        ],\n",
       "       [12.        , 15.        , 45.31004304,  2.        ],\n",
       "       [16.        , 20.        , 45.36151085,  3.        ],\n",
       "       [ 5.        , 27.        , 53.54437412,  4.        ],\n",
       "       [30.        , 32.        , 56.6892112 ,  6.        ],\n",
       "       [25.        , 29.        , 60.16809786,  5.        ],\n",
       "       [28.        , 34.        , 66.61618922,  8.        ],\n",
       "       [31.        , 33.        , 70.35228813,  9.        ],\n",
       "       [23.        , 36.        , 80.11172754, 12.        ],\n",
       "       [35.        , 37.        , 93.57946712, 20.        ]])"
      ]
     },
     "execution_count": 11,
     "metadata": {},
     "output_type": "execute_result"
    }
   ],
   "source": [
    "from scipy.cluster.hierarchy import linkage, dendrogram\n",
    "\n",
    "Z = linkage(X, 'ward')\n",
    "Z"
   ]
  },
  {
   "cell_type": "code",
   "execution_count": 15,
   "id": "c2e8d031",
   "metadata": {},
   "outputs": [
    {
     "data": {
      "text/plain": [
       "{'icoord': [[15.0, 15.0, 25.0, 25.0],\n",
       "  [5.0, 5.0, 20.0, 20.0],\n",
       "  [35.0, 35.0, 45.0, 45.0],\n",
       "  [65.0, 65.0, 75.0, 75.0],\n",
       "  [55.0, 55.0, 70.0, 70.0],\n",
       "  [40.0, 40.0, 62.5, 62.5],\n",
       "  [12.5, 12.5, 51.25, 51.25],\n",
       "  [95.0, 95.0, 105.0, 105.0],\n",
       "  [85.0, 85.0, 100.0, 100.0],\n",
       "  [125.0, 125.0, 135.0, 135.0],\n",
       "  [115.0, 115.0, 130.0, 130.0],\n",
       "  [145.0, 145.0, 155.0, 155.0],\n",
       "  [185.0, 185.0, 195.0, 195.0],\n",
       "  [175.0, 175.0, 190.0, 190.0],\n",
       "  [165.0, 165.0, 182.5, 182.5],\n",
       "  [150.0, 150.0, 173.75, 173.75],\n",
       "  [122.5, 122.5, 161.875, 161.875],\n",
       "  [92.5, 92.5, 142.1875, 142.1875],\n",
       "  [31.875, 31.875, 117.34375, 117.34375]],\n",
       " 'dcoord': [[0.0, 28.6705423736629, 28.6705423736629, 0.0],\n",
       "  [0.0, 37.03151810732762, 37.03151810732762, 28.6705423736629],\n",
       "  [0.0, 32.54228019054596, 32.54228019054596, 0.0],\n",
       "  [0.0, 33.36165463522455, 33.36165463522455, 0.0],\n",
       "  [0.0, 43.255057507764334, 43.255057507764334, 33.36165463522455],\n",
       "  [32.54228019054596,\n",
       "   60.168097859247645,\n",
       "   60.168097859247645,\n",
       "   43.255057507764334],\n",
       "  [37.03151810732762,\n",
       "   66.61618922354134,\n",
       "   66.61618922354134,\n",
       "   60.168097859247645],\n",
       "  [0.0, 25.278449319529077, 25.278449319529077, 0.0],\n",
       "  [0.0, 31.042980956516832, 31.042980956516832, 25.278449319529077],\n",
       "  [0.0, 23.515952032609693, 23.515952032609693, 0.0],\n",
       "  [0.0, 45.36151085079361, 45.36151085079361, 23.515952032609693],\n",
       "  [0.0, 45.31004303683677, 45.31004303683677, 0.0],\n",
       "  [0.0, 31.51190251317746, 31.51190251317746, 0.0],\n",
       "  [0.0, 34.51086785347479, 34.51086785347479, 31.51190251317746],\n",
       "  [0.0, 53.54437412091021, 53.54437412091021, 34.51086785347479],\n",
       "  [45.31004303683677, 56.68921120166223, 56.68921120166223, 53.54437412091021],\n",
       "  [45.36151085079361, 70.35228812515228, 70.35228812515228, 56.68921120166223],\n",
       "  [31.042980956516832,\n",
       "   80.11172753654041,\n",
       "   80.11172753654041,\n",
       "   70.35228812515228],\n",
       "  [66.61618922354134,\n",
       "   93.57946712108735,\n",
       "   93.57946712108735,\n",
       "   80.11172753654041]],\n",
       " 'ivl': ['2',\n",
       "  '1',\n",
       "  '14',\n",
       "  '6',\n",
       "  '8',\n",
       "  '11',\n",
       "  '9',\n",
       "  '10',\n",
       "  '17',\n",
       "  '13',\n",
       "  '19',\n",
       "  '16',\n",
       "  '3',\n",
       "  '18',\n",
       "  '12',\n",
       "  '15',\n",
       "  '5',\n",
       "  '0',\n",
       "  '4',\n",
       "  '7'],\n",
       " 'leaves': [2,\n",
       "  1,\n",
       "  14,\n",
       "  6,\n",
       "  8,\n",
       "  11,\n",
       "  9,\n",
       "  10,\n",
       "  17,\n",
       "  13,\n",
       "  19,\n",
       "  16,\n",
       "  3,\n",
       "  18,\n",
       "  12,\n",
       "  15,\n",
       "  5,\n",
       "  0,\n",
       "  4,\n",
       "  7],\n",
       " 'color_list': ['C1',\n",
       "  'C1',\n",
       "  'C2',\n",
       "  'C2',\n",
       "  'C2',\n",
       "  'C2',\n",
       "  'C0',\n",
       "  'C3',\n",
       "  'C3',\n",
       "  'C4',\n",
       "  'C4',\n",
       "  'C5',\n",
       "  'C5',\n",
       "  'C5',\n",
       "  'C5',\n",
       "  'C5',\n",
       "  'C0',\n",
       "  'C0',\n",
       "  'C0'],\n",
       " 'leaves_color_list': ['C1',\n",
       "  'C1',\n",
       "  'C1',\n",
       "  'C2',\n",
       "  'C2',\n",
       "  'C2',\n",
       "  'C2',\n",
       "  'C2',\n",
       "  'C3',\n",
       "  'C3',\n",
       "  'C3',\n",
       "  'C4',\n",
       "  'C4',\n",
       "  'C4',\n",
       "  'C5',\n",
       "  'C5',\n",
       "  'C5',\n",
       "  'C5',\n",
       "  'C5',\n",
       "  'C5']}"
      ]
     },
     "execution_count": 15,
     "metadata": {},
     "output_type": "execute_result"
    }
   ],
   "source": [
    "ddata"
   ]
  },
  {
   "cell_type": "code",
   "execution_count": 16,
   "id": "693590d2",
   "metadata": {},
   "outputs": [
    {
     "data": {
      "text/plain": [
       "array([[ 0.        , 23.51595203, 23.51595203,  0.        ],\n",
       "       [ 0.        , 25.27844932, 25.27844932,  0.        ],\n",
       "       [ 0.        , 28.67054237, 28.67054237,  0.        ],\n",
       "       [ 0.        , 31.04298096, 31.04298096, 25.27844932],\n",
       "       [ 0.        , 31.51190251, 31.51190251,  0.        ],\n",
       "       [ 0.        , 32.54228019, 32.54228019,  0.        ],\n",
       "       [ 0.        , 33.36165464, 33.36165464,  0.        ],\n",
       "       [ 0.        , 34.51086785, 34.51086785, 31.51190251],\n",
       "       [ 0.        , 37.03151811, 37.03151811, 28.67054237],\n",
       "       [ 0.        , 43.25505751, 43.25505751, 33.36165464],\n",
       "       [ 0.        , 45.31004304, 45.31004304,  0.        ],\n",
       "       [ 0.        , 45.36151085, 45.36151085, 23.51595203],\n",
       "       [ 0.        , 53.54437412, 53.54437412, 34.51086785],\n",
       "       [45.31004304, 56.6892112 , 56.6892112 , 53.54437412],\n",
       "       [32.54228019, 60.16809786, 60.16809786, 43.25505751],\n",
       "       [37.03151811, 66.61618922, 66.61618922, 60.16809786],\n",
       "       [45.36151085, 70.35228813, 70.35228813, 56.6892112 ],\n",
       "       [31.04298096, 80.11172754, 80.11172754, 70.35228813],\n",
       "       [66.61618922, 93.57946712, 93.57946712, 80.11172754]])"
      ]
     },
     "execution_count": 16,
     "metadata": {},
     "output_type": "execute_result"
    }
   ],
   "source": [
    "dcoord"
   ]
  },
  {
   "cell_type": "code",
   "execution_count": 18,
   "id": "2a97b817",
   "metadata": {},
   "outputs": [
    {
     "data": {
      "text/plain": [
       "array([23.51595203, 25.27844932, 28.67054237, 31.04298096, 31.51190251,\n",
       "       32.54228019, 33.36165464, 34.51086785, 37.03151811, 43.25505751,\n",
       "       45.31004304, 45.36151085, 53.54437412, 56.6892112 , 60.16809786,\n",
       "       66.61618922, 70.35228813, 80.11172754, 93.57946712])"
      ]
     },
     "execution_count": 18,
     "metadata": {},
     "output_type": "execute_result"
    }
   ],
   "source": [
    "dcoord[:, 2]"
   ]
  },
  {
   "cell_type": "code",
   "execution_count": 14,
   "id": "3f6e09f1",
   "metadata": {},
   "outputs": [
    {
     "data": {
      "image/png": "[encoded data removed]",
      "text/plain": [
       "<Figure size 720x288 with 1 Axes>"
      ]
     },
     "metadata": {
      "needs_background": "light"
     },
     "output_type": "display_data"
    }
   ],
   "source": [
    "from matplotlib.offsetbox import OffsetImage, AnnotationBbox\n",
    "\n",
    "plt.figure(figsize=(10, 4))\n",
    "ax = plt.subplot()\n",
    "\n",
    "ddata = dendrogram(Z)\n",
    "\n",
    "dcoord = np.array(ddata['dcoord'])\n",
    "icoord = np.array(ddata['icoord'])\n",
    "leaves = np.array(ddata['leaves'])\n",
    "idx = np.argsort(dcoord[:, 2])\n",
    "dcoord = dcoord[idx, :]\n",
    "icoord = icoord[idx, :]\n",
    "idx = np.argsort(Z[:, :2].ravel())\n",
    "label_pos = icoord[:, 1:3].ravel()[idx][:20]\n",
    "\n",
    "for i in range(20):\n",
    "    imagebox = OffsetImage(images[i], cmap=plt.cm.bone_r, interpolation=\"bilinear\", zoom=3)\n",
    "    ab = AnnotationBbox(imagebox, (label_pos[i], 0),  box_alignment=(0.5, -0.1), \n",
    "                        bboxprops={\"edgecolor\" : \"none\"})\n",
    "    ax.add_artist(ab)\n",
    "\n",
    "plt.show()"
   ]
  },
  {
   "cell_type": "code",
   "execution_count": null,
   "id": "4af41086",
   "metadata": {},
   "outputs": [],
   "source": []
  },
  {
   "cell_type": "code",
   "execution_count": null,
   "id": "26280b01",
   "metadata": {},
   "outputs": [],
   "source": []
  }
 ],
 "metadata": {
  "kernelspec": {
   "display_name": "Python 3 (ipykernel)",
   "language": "python",
   "name": "python3"
  },
  "language_info": {
   "codemirror_mode": {
    "name": "ipython",
    "version": 3
   },
   "file_extension": ".py",
   "mimetype": "text/x-python",
   "name": "python",
   "nbconvert_exporter": "python",
   "pygments_lexer": "ipython3",
   "version": "3.9.7"
  }
 },
 "nbformat": 4,
 "nbformat_minor": 5
}
