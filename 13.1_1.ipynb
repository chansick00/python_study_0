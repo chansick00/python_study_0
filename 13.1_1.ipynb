{
 "cells": [
  {
   "cell_type": "code",
   "execution_count": 14,
   "id": "2de9c9df",
   "metadata": {},
   "outputs": [],
   "source": [
    "import surprise"
   ]
  },
  {
   "cell_type": "code",
   "execution_count": 15,
   "id": "062391b8",
   "metadata": {},
   "outputs": [],
   "source": [
    "import pandas as pd\n",
    "import matplotlib.pylab as plt\n",
    "import numpy as np"
   ]
  },
  {
   "cell_type": "code",
   "execution_count": 16,
   "id": "0ec05ee0",
   "metadata": {},
   "outputs": [
    {
     "name": "stdout",
     "output_type": "stream",
     "text": [
      "Estimating biases using als...\n",
      "RMSE: 0.9453\n",
      "Estimating biases using als...\n",
      "RMSE: 0.9377\n",
      "Estimating biases using als...\n",
      "RMSE: 0.9500\n"
     ]
    },
    {
     "data": {
      "text/plain": [
       "0.9443304984013942"
      ]
     },
     "execution_count": 16,
     "metadata": {},
     "output_type": "execute_result"
    }
   ],
   "source": [
    "from surprise.model_selection import KFold\n",
    "\n",
    "bsl_options = {\n",
    "    'method': 'als',\n",
    "    'n_epochs': 5,\n",
    "    'reg_u': 12,\n",
    "    'reg_i': 5\n",
    "}\n",
    "algo = surprise.BaselineOnly(bsl_options)\n",
    "\n",
    "np.random.seed(0)\n",
    "acc = np.zeros(3)\n",
    "cv = KFold(3)\n",
    "for i, (trainset, testset) in enumerate(cv.split(data)):\n",
    "    algo.fit(trainset)\n",
    "    predictions = algo.test(testset)\n",
    "    acc[i] = surprise.accuracy.rmse(predictions, verbose=True)\n",
    "acc.mean()"
   ]
  },
  {
   "cell_type": "code",
   "execution_count": 17,
   "id": "ff2db43a",
   "metadata": {},
   "outputs": [
    {
     "name": "stdout",
     "output_type": "stream",
     "text": [
      "Estimating biases using als...\n",
      "Estimating biases using als...\n",
      "Estimating biases using als...\n",
      "Estimating biases using als...\n",
      "Estimating biases using als...\n"
     ]
    },
    {
     "data": {
      "text/plain": [
       "{'test_rmse': array([0.9384446 , 0.94651657, 0.93612815, 0.94221861, 0.94428787]),\n",
       " 'test_mae': array([0.74477853, 0.75124267, 0.73975393, 0.745764  , 0.74659098]),\n",
       " 'fit_time': (0.14978790283203125,\n",
       "  0.15688014030456543,\n",
       "  0.17915725708007812,\n",
       "  0.15007781982421875,\n",
       "  0.16193509101867676),\n",
       " 'test_time': (0.13807964324951172,\n",
       "  0.2661290168762207,\n",
       "  0.14839768409729004,\n",
       "  0.2715299129486084,\n",
       "  0.14760780334472656)}"
      ]
     },
     "execution_count": 17,
     "metadata": {},
     "output_type": "execute_result"
    }
   ],
   "source": [
    "from surprise.model_selection import cross_validate\n",
    "\n",
    "cross_validate(algo, data)"
   ]
  },
  {
   "cell_type": "markdown",
   "id": "407591ca",
   "metadata": {},
   "source": [
    "## 평균제곱차이 유사도"
   ]
  },
  {
   "cell_type": "code",
   "execution_count": 18,
   "id": "b8c177f8",
   "metadata": {},
   "outputs": [
    {
     "name": "stdout",
     "output_type": "stream",
     "text": [
      "Computing the msd similarity matrix...\n",
      "Done computing similarity matrix.\n",
      "Computing the msd similarity matrix...\n",
      "Done computing similarity matrix.\n",
      "Computing the msd similarity matrix...\n",
      "Done computing similarity matrix.\n",
      "Computing the msd similarity matrix...\n",
      "Done computing similarity matrix.\n",
      "Computing the msd similarity matrix...\n",
      "Done computing similarity matrix.\n"
     ]
    },
    {
     "data": {
      "text/plain": [
       "0.7726801901092284"
      ]
     },
     "execution_count": 18,
     "metadata": {},
     "output_type": "execute_result"
    }
   ],
   "source": [
    "sim_options = {'name': 'msd'}\n",
    "algo = surprise.KNNBasic(sim_options=sim_options)\n",
    "cross_validate(algo, data)[\"test_mae\"].mean()"
   ]
  },
  {
   "cell_type": "markdown",
   "id": "9433f14d",
   "metadata": {},
   "source": [
    "## 코사인 유사도"
   ]
  },
  {
   "cell_type": "code",
   "execution_count": 19,
   "id": "34490ab7",
   "metadata": {},
   "outputs": [
    {
     "name": "stdout",
     "output_type": "stream",
     "text": [
      "Computing the cosine similarity matrix...\n",
      "Done computing similarity matrix.\n",
      "Computing the cosine similarity matrix...\n",
      "Done computing similarity matrix.\n",
      "Computing the cosine similarity matrix...\n",
      "Done computing similarity matrix.\n",
      "Computing the cosine similarity matrix...\n",
      "Done computing similarity matrix.\n",
      "Computing the cosine similarity matrix...\n",
      "Done computing similarity matrix.\n"
     ]
    },
    {
     "data": {
      "text/plain": [
       "0.8046567723959086"
      ]
     },
     "execution_count": 19,
     "metadata": {},
     "output_type": "execute_result"
    }
   ],
   "source": [
    "sim_options = {'name' : 'cosine'}\n",
    "algo = surprise.KNNBasic(sim_options=sim_options)\n",
    "cross_validate(algo, data)['test_mae'].mean()"
   ]
  },
  {
   "cell_type": "markdown",
   "id": "076372b2",
   "metadata": {},
   "source": [
    "## 피어슨 유사도"
   ]
  },
  {
   "cell_type": "code",
   "execution_count": 20,
   "id": "f005df69",
   "metadata": {},
   "outputs": [
    {
     "name": "stdout",
     "output_type": "stream",
     "text": [
      "Computing the pearson similarity matrix...\n",
      "Done computing similarity matrix.\n",
      "Computing the pearson similarity matrix...\n",
      "Done computing similarity matrix.\n",
      "Computing the pearson similarity matrix...\n",
      "Done computing similarity matrix.\n",
      "Computing the pearson similarity matrix...\n",
      "Done computing similarity matrix.\n",
      "Computing the pearson similarity matrix...\n",
      "Done computing similarity matrix.\n"
     ]
    },
    {
     "data": {
      "text/plain": [
       "0.8032778978216127"
      ]
     },
     "execution_count": 20,
     "metadata": {},
     "output_type": "execute_result"
    }
   ],
   "source": [
    "sim_options = {'name': 'pearson'}\n",
    "algo = surprise.KNNBasic(sim_options=sim_options)\n",
    "cross_validate(algo, data)[\"test_mae\"].mean()"
   ]
  },
  {
   "cell_type": "markdown",
   "id": "3ded01f3",
   "metadata": {},
   "source": [
    "## 피어슨-베이스라인 유사도"
   ]
  },
  {
   "cell_type": "code",
   "execution_count": 21,
   "id": "6811ef5e",
   "metadata": {},
   "outputs": [
    {
     "name": "stdout",
     "output_type": "stream",
     "text": [
      "Estimating biases using als...\n",
      "Computing the pearson_baseline similarity matrix...\n",
      "Done computing similarity matrix.\n",
      "Estimating biases using als...\n",
      "Computing the pearson_baseline similarity matrix...\n",
      "Done computing similarity matrix.\n",
      "Estimating biases using als...\n",
      "Computing the pearson_baseline similarity matrix...\n",
      "Done computing similarity matrix.\n",
      "Estimating biases using als...\n",
      "Computing the pearson_baseline similarity matrix...\n",
      "Done computing similarity matrix.\n",
      "Estimating biases using als...\n",
      "Computing the pearson_baseline similarity matrix...\n",
      "Done computing similarity matrix.\n"
     ]
    },
    {
     "data": {
      "text/plain": [
       "0.791677323191221"
      ]
     },
     "execution_count": 21,
     "metadata": {},
     "output_type": "execute_result"
    }
   ],
   "source": [
    "sim_options = {'name': 'pearson_baseline'}\n",
    "algo = surprise.KNNBasic(sim_options=sim_options)\n",
    "cross_validate(algo, data)['test_mae'].mean()"
   ]
  },
  {
   "cell_type": "markdown",
   "id": "7aa6de43",
   "metadata": {},
   "source": [
    "## KNN 가중치 예측 방법"
   ]
  },
  {
   "cell_type": "code",
   "execution_count": 22,
   "id": "cddbe5dc",
   "metadata": {},
   "outputs": [
    {
     "name": "stdout",
     "output_type": "stream",
     "text": [
      "Estimating biases using als...\n",
      "Computing the pearson_baseline similarity matrix...\n",
      "Done computing similarity matrix.\n",
      "Estimating biases using als...\n",
      "Computing the pearson_baseline similarity matrix...\n",
      "Done computing similarity matrix.\n",
      "Estimating biases using als...\n",
      "Computing the pearson_baseline similarity matrix...\n",
      "Done computing similarity matrix.\n",
      "Estimating biases using als...\n",
      "Computing the pearson_baseline similarity matrix...\n",
      "Done computing similarity matrix.\n",
      "Estimating biases using als...\n",
      "Computing the pearson_baseline similarity matrix...\n",
      "Done computing similarity matrix.\n"
     ]
    },
    {
     "data": {
      "text/plain": [
       "0.7299485648439766"
      ]
     },
     "execution_count": 22,
     "metadata": {},
     "output_type": "execute_result"
    }
   ],
   "source": [
    "sim_options = {'name' : 'pearson_baseline'}\n",
    "algo = surprise.KNNWithMeans(sim_options=sim_options)\n",
    "cross_validate(algo, data)['test_mae'].mean()"
   ]
  },
  {
   "cell_type": "code",
   "execution_count": 23,
   "id": "d1588266",
   "metadata": {},
   "outputs": [
    {
     "name": "stdout",
     "output_type": "stream",
     "text": [
      "Estimating biases using als...\n",
      "Computing the pearson_baseline similarity matrix...\n",
      "Done computing similarity matrix.\n",
      "Estimating biases using als...\n",
      "Computing the pearson_baseline similarity matrix...\n",
      "Done computing similarity matrix.\n",
      "Estimating biases using als...\n",
      "Computing the pearson_baseline similarity matrix...\n",
      "Done computing similarity matrix.\n",
      "Estimating biases using als...\n",
      "Computing the pearson_baseline similarity matrix...\n",
      "Done computing similarity matrix.\n",
      "Estimating biases using als...\n",
      "Computing the pearson_baseline similarity matrix...\n",
      "Done computing similarity matrix.\n"
     ]
    },
    {
     "data": {
      "text/plain": [
       "0.7211170375266851"
      ]
     },
     "execution_count": 23,
     "metadata": {},
     "output_type": "execute_result"
    }
   ],
   "source": [
    "sim_options = {'name' : 'pearson_baseline'}\n",
    "algo = surprise.KNNBaseline(sim_options=sim_options)\n",
    "cross_validate(algo, data)['test_mae'].mean()"
   ]
  },
  {
   "cell_type": "markdown",
   "id": "a2afc382",
   "metadata": {},
   "source": [
    "## SVD (Singular Value Decomposition)"
   ]
  },
  {
   "cell_type": "code",
   "execution_count": 24,
   "id": "92c93d13",
   "metadata": {},
   "outputs": [
    {
     "name": "stdout",
     "output_type": "stream",
     "text": [
      "Wall time: 16.4 s\n"
     ]
    },
    {
     "data": {
      "text/plain": [
       "0.739210803693828"
      ]
     },
     "execution_count": 24,
     "metadata": {},
     "output_type": "execute_result"
    }
   ],
   "source": [
    "%%time\n",
    "algo = surprise.SVD(n_factors=100)\n",
    "cross_validate(algo, data)[\"test_mae\"].mean()"
   ]
  },
  {
   "cell_type": "markdown",
   "id": "5d273fa1",
   "metadata": {},
   "source": [
    "## NMF(Non-negative matrix factorization)"
   ]
  },
  {
   "cell_type": "code",
   "execution_count": 25,
   "id": "ede80c14",
   "metadata": {},
   "outputs": [
    {
     "name": "stdout",
     "output_type": "stream",
     "text": [
      "Wall time: 55.5 s\n"
     ]
    },
    {
     "data": {
      "text/plain": [
       "0.8371368390504086"
      ]
     },
     "execution_count": 25,
     "metadata": {},
     "output_type": "execute_result"
    }
   ],
   "source": [
    "%%time\n",
    "algo = surprise.NMF(n_factors=100)\n",
    "cross_validate(algo, data)[\"test_mae\"].mean()"
   ]
  },
  {
   "cell_type": "code",
   "execution_count": null,
   "id": "3d041512",
   "metadata": {},
   "outputs": [],
   "source": []
  },
  {
   "cell_type": "code",
   "execution_count": null,
   "id": "3620dfd0",
   "metadata": {},
   "outputs": [],
   "source": []
  }
 ],
 "metadata": {
  "kernelspec": {
   "display_name": "Python 3 (ipykernel)",
   "language": "python",
   "name": "python3"
  },
  "language_info": {
   "codemirror_mode": {
    "name": "ipython",
    "version": 3
   },
   "file_extension": ".py",
   "mimetype": "text/x-python",
   "name": "python",
   "nbconvert_exporter": "python",
   "pygments_lexer": "ipython3",
   "version": "3.9.7"
  }
 },
 "nbformat": 4,
 "nbformat_minor": 5
}
