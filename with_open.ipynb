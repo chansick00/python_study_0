{
 "cells": [
  {
   "cell_type": "markdown",
   "id": "b8e9d744",
   "metadata": {},
   "source": [
    "## f.read()를 통해 data 폴더안에 있는 test.txt를 read mode로 열어봅니다."
   ]
  },
  {
   "cell_type": "code",
   "execution_count": 3,
   "id": "47e408e1",
   "metadata": {},
   "outputs": [
    {
     "data": {
      "text/plain": [
       "'아이고\\n이\\n아이쿠\\n우리\\n저희\\n따라\\n의해\\n오\\n하\\n다\\n의거하여\\n예\\n기준으로\\n아\\n예하면\\n에\\n아\\n아디\\n아디\\n이에\\n랄라\\n라\\n돟\\n'"
      ]
     },
     "execution_count": 3,
     "metadata": {},
     "output_type": "execute_result"
    }
   ],
   "source": [
    "with open('data/soon.txt', 'rt', encoding='UTF8') as f:\n",
    "    data = f.read()\n",
    "data"
   ]
  },
  {
   "cell_type": "markdown",
   "id": "c11afe46",
   "metadata": {},
   "source": [
    "## f.readline()를 통해 data 폴더안에 있는 test.txt를 read mode로 열어봅니다."
   ]
  },
  {
   "cell_type": "code",
   "execution_count": 24,
   "id": "63caa7df",
   "metadata": {},
   "outputs": [
    {
     "data": {
      "text/plain": [
       "'아이고\\n'"
      ]
     },
     "execution_count": 24,
     "metadata": {},
     "output_type": "execute_result"
    }
   ],
   "source": [
    "with open('data/soon.txt', 'rt', encoding = 'UTF8') as f:\n",
    "    data = f.readline()     # 첫째줄만\n",
    "data"
   ]
  },
  {
   "cell_type": "markdown",
   "id": "cee260fa",
   "metadata": {},
   "source": [
    "## f.readlines()를 통해 data 폴더안에 있는 test.txt를 read mode로 열어봅니다."
   ]
  },
  {
   "cell_type": "code",
   "execution_count": 23,
   "id": "b15c7bcc",
   "metadata": {},
   "outputs": [
    {
     "data": {
      "text/plain": [
       "['아이고\\n',\n",
       " '이\\n',\n",
       " '아이쿠\\n',\n",
       " '우리\\n',\n",
       " '저희\\n',\n",
       " '따라\\n',\n",
       " '의해\\n',\n",
       " '오\\n',\n",
       " '하\\n',\n",
       " '다\\n',\n",
       " '의거하여\\n',\n",
       " '예\\n',\n",
       " '기준으로\\n',\n",
       " '아\\n',\n",
       " '예하면\\n',\n",
       " '에\\n',\n",
       " '아\\n',\n",
       " '아디\\n',\n",
       " '아디\\n',\n",
       " '이에\\n',\n",
       " '랄라\\n',\n",
       " '라\\n',\n",
       " '돟\\n']"
      ]
     },
     "execution_count": 23,
     "metadata": {},
     "output_type": "execute_result"
    }
   ],
   "source": [
    "with open('data/soon.txt', 'rt', encoding='UTF8') as f:\n",
    "    data = f.readlines()\n",
    "data\n",
    "# 모든 텍스트를 한 줄 단위로 끊어서 리스트에 저장"
   ]
  },
  {
   "cell_type": "markdown",
   "id": "c86722e1",
   "metadata": {},
   "source": [
    "## for문을 통해 data 폴더안에 있는 test.txt를 read mode로 열어서 출력해봅니다."
   ]
  },
  {
   "cell_type": "code",
   "execution_count": 14,
   "id": "33acf745",
   "metadata": {},
   "outputs": [
    {
     "name": "stdout",
     "output_type": "stream",
     "text": [
      "아이고\n",
      "\n",
      "이\n",
      "\n",
      "아이쿠\n",
      "\n",
      "우리\n",
      "\n",
      "저희\n",
      "\n",
      "따라\n",
      "\n",
      "의해\n",
      "\n",
      "오\n",
      "\n",
      "하\n",
      "\n",
      "다\n",
      "\n",
      "의거하여\n",
      "\n",
      "예\n",
      "\n",
      "기준으로\n",
      "\n",
      "아\n",
      "\n",
      "예하면\n",
      "\n",
      "에\n",
      "\n",
      "아\n",
      "\n",
      "아디\n",
      "\n",
      "아디\n",
      "\n",
      "이에\n",
      "\n",
      "랄라\n",
      "\n",
      "라\n",
      "\n",
      "돟\n",
      "\n"
     ]
    }
   ],
   "source": [
    "with open('data/soon.txt', 'rt', encoding = 'UTF8')as f:\n",
    "    for line in f:\n",
    "        print(line)"
   ]
  },
  {
   "cell_type": "code",
   "execution_count": 18,
   "id": "e9efad86",
   "metadata": {},
   "outputs": [
    {
     "data": {
      "text/plain": [
       "['아이고',\n",
       " '아이쿠',\n",
       " '우리',\n",
       " '저희',\n",
       " '따라',\n",
       " '의해',\n",
       " '의거하여',\n",
       " '기준으로',\n",
       " '예하면',\n",
       " '아디',\n",
       " '아디',\n",
       " '이에',\n",
       " '랄라']"
      ]
     },
     "execution_count": 18,
     "metadata": {},
     "output_type": "execute_result"
    }
   ],
   "source": [
    "output = []\n",
    "\n",
    "# soon.txt를 read mode로 열고 할 일이 끝나면 자동으로 닫는다. \n",
    "\n",
    "with open('data/soon.txt', 'r', encoding='UTF8')as f:\n",
    "    for line in f:\n",
    "        line = line.strip()       #strip() 공백날리기\n",
    "        if len(line) > 1:\n",
    "            output.append(line)\n",
    "output"
   ]
  },
  {
   "cell_type": "code",
   "execution_count": 22,
   "id": "5e531309",
   "metadata": {},
   "outputs": [],
   "source": [
    "# result.txt로 output list에 있는 내용을 저장하기 위해 write mode로 열었다.\n",
    "with open('data/result.txt', 'w')as f:\n",
    "    for line in output:\n",
    "        print(line, file = f)"
   ]
  },
  {
   "cell_type": "code",
   "execution_count": 21,
   "id": "fc5b74ff",
   "metadata": {},
   "outputs": [
    {
     "name": "stdout",
     "output_type": "stream",
     "text": [
      "아이고\n",
      "\n",
      "아이쿠\n",
      "\n",
      "우리\n",
      "\n",
      "저희\n",
      "\n",
      "따라\n",
      "\n",
      "의해\n",
      "\n",
      "의거하여\n",
      "\n",
      "기준으로\n",
      "\n",
      "예하면\n",
      "\n",
      "아디\n",
      "\n",
      "아디\n",
      "\n",
      "이에\n",
      "\n",
      "랄라\n",
      "\n"
     ]
    }
   ],
   "source": [
    "# 제대로 데이터가 저장되어 있는지, 불러와서 확인한다.\n",
    "with open ('data/result.txt','r')as f:\n",
    "    for line in f:\n",
    "        print(line)"
   ]
  },
  {
   "cell_type": "code",
   "execution_count": null,
   "id": "bea7a728",
   "metadata": {},
   "outputs": [],
   "source": []
  },
  {
   "cell_type": "code",
   "execution_count": null,
   "id": "e48e10d4",
   "metadata": {},
   "outputs": [],
   "source": []
  },
  {
   "cell_type": "code",
   "execution_count": null,
   "id": "60d193ba",
   "metadata": {},
   "outputs": [],
   "source": []
  },
  {
   "cell_type": "code",
   "execution_count": null,
   "id": "ad657e78",
   "metadata": {},
   "outputs": [],
   "source": []
  },
  {
   "cell_type": "code",
   "execution_count": null,
   "id": "a8ab8cd1",
   "metadata": {},
   "outputs": [],
   "source": []
  },
  {
   "cell_type": "code",
   "execution_count": null,
   "id": "3be70329",
   "metadata": {},
   "outputs": [],
   "source": []
  },
  {
   "cell_type": "code",
   "execution_count": null,
   "id": "255e6d05",
   "metadata": {},
   "outputs": [],
   "source": []
  },
  {
   "cell_type": "code",
   "execution_count": null,
   "id": "8759e446",
   "metadata": {},
   "outputs": [],
   "source": []
  },
  {
   "cell_type": "code",
   "execution_count": null,
   "id": "5f895626",
   "metadata": {},
   "outputs": [],
   "source": []
  },
  {
   "cell_type": "code",
   "execution_count": null,
   "id": "521966da",
   "metadata": {},
   "outputs": [],
   "source": []
  },
  {
   "cell_type": "code",
   "execution_count": null,
   "id": "a83d4942",
   "metadata": {},
   "outputs": [],
   "source": []
  },
  {
   "cell_type": "code",
   "execution_count": null,
   "id": "ec3236f7",
   "metadata": {},
   "outputs": [],
   "source": []
  }
 ],
 "metadata": {
  "kernelspec": {
   "display_name": "Python 3 (ipykernel)",
   "language": "python",
   "name": "python3"
  },
  "language_info": {
   "codemirror_mode": {
    "name": "ipython",
    "version": 3
   },
   "file_extension": ".py",
   "mimetype": "text/x-python",
   "name": "python",
   "nbconvert_exporter": "python",
   "pygments_lexer": "ipython3",
   "version": "3.9.7"
  }
 },
 "nbformat": 4,
 "nbformat_minor": 5
}
