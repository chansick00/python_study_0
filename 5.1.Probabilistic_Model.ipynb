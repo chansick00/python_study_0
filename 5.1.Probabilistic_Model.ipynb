{
 "cells": [
  {
   "cell_type": "code",
   "execution_count": 24,
   "id": "b329e3e5",
   "metadata": {},
   "outputs": [],
   "source": [
    "import numpy as np\n",
    "import pandas as pd\n",
    "import seaborn as sns\n",
    "import statsmodels.api as sm\n",
    "import sklearn as sk\n",
    "import matplotlib.pylab as plt\n",
    "import matplotlib as mpl"
   ]
  },
  {
   "cell_type": "code",
   "execution_count": 27,
   "id": "e8bc792b",
   "metadata": {},
   "outputs": [],
   "source": [
    "# 폰트 설정\n",
    "mpl.rc('font', family='NanumGothic')\n",
    "# 유니코드에서  음수 부호설정\n",
    "mpl.rc('axes', unicode_minus=False)"
   ]
  },
  {
   "cell_type": "markdown",
   "id": "feb05f59",
   "metadata": {},
   "source": [
    "## 부트스트래핑"
   ]
  },
  {
   "cell_type": "code",
   "execution_count": 19,
   "id": "e524efa8",
   "metadata": {},
   "outputs": [
    {
     "data": {
      "text/plain": [
       "array(42.38550486)"
      ]
     },
     "execution_count": 19,
     "metadata": {},
     "output_type": "execute_result"
    }
   ],
   "source": [
    "from sklearn.datasets import make_regression\n",
    "\n",
    "X0, y, coef = make_regression(n_samples=100, n_features=1, noise=20,\n",
    "                             coef=True, random_state=0)\n",
    "coef"
   ]
  },
  {
   "cell_type": "code",
   "execution_count": 20,
   "id": "d99d2545",
   "metadata": {},
   "outputs": [],
   "source": [
    "dfX0 = pd.DataFrame(X0, columns=['X1'])\n",
    "dfX = sm.add_constant(dfX0)           # 상수항결합\n",
    "dfy = pd.DataFrame(y, columns=['y'])\n",
    "\n",
    "model = sm.OLS(dfy, dfX)\n",
    "result = model.fit()"
   ]
  },
  {
   "cell_type": "code",
   "execution_count": 21,
   "id": "aaf43555",
   "metadata": {},
   "outputs": [
    {
     "data": {
      "text/plain": [
       "const    -1.628364\n",
       "X1       42.853356\n",
       "dtype: float64"
      ]
     },
     "execution_count": 21,
     "metadata": {},
     "output_type": "execute_result"
    }
   ],
   "source": [
    "result.params"
   ]
  },
  {
   "cell_type": "code",
   "execution_count": 22,
   "id": "34fcd32d",
   "metadata": {},
   "outputs": [
    {
     "name": "stdout",
     "output_type": "stream",
     "text": [
      "Wall time: 2.41 s\n"
     ]
    }
   ],
   "source": [
    "%%time\n",
    "N = 1000\n",
    "params_w0 = np.zeros(N)\n",
    "params_w1 = np.zeros(N)\n",
    "for i in range(N):\n",
    "    idx = np.random.choice(len(dfy), len(dfy), replace=True)\n",
    "    dfX2 = dfX.iloc[idx, :]\n",
    "    dfy2 = dfy.iloc[idx]\n",
    "    r = sm.OLS(dfy2, dfX2).fit()\n",
    "    params_w0[i] = r.params.const\n",
    "    params_w1[i] = r.params.X1"
   ]
  },
  {
   "cell_type": "code",
   "execution_count": 33,
   "id": "64369510",
   "metadata": {},
   "outputs": [],
   "source": [
    "import warnings\n",
    "warnings.filterwarnings(\"ignore\")"
   ]
  },
  {
   "cell_type": "code",
   "execution_count": 36,
   "id": "5b6ad4b4",
   "metadata": {},
   "outputs": [
    {
     "data": {
      "image/png": "[encoded data removed]",
      "text/plain": [
       "<Figure size 576x216 with 2 Axes>"
      ]
     },
     "metadata": {
      "needs_background": "light"
     },
     "output_type": "display_data"
    }
   ],
   "source": [
    "plt.figure(figsize=(8, 3))\n",
    "\n",
    "ax1 = plt.subplot(121)\n",
    "sns.distplot(params_w1, ax=ax1)\n",
    "plt.axvline(params_w1.mean(), c='r')   #수직수평선\n",
    "plt.title(\"$\\hat{w}_1$ 추정치 분포\")\n",
    "\n",
    "ax2 = plt.subplot(122)\n",
    "sns.distplot(params_w0, ax=ax2)\n",
    "plt.axvline(params_w0.mean(), c='r')\n",
    "plt.title(\"$\\hat{w}_0$ 추정치 분포\")\n",
    "plt.show()"
   ]
  },
  {
   "cell_type": "code",
   "execution_count": 37,
   "id": "a25d6837",
   "metadata": {},
   "outputs": [
    {
     "data": {
      "text/plain": [
       "(42.870864817934994, 1.9350074698299415)"
      ]
     },
     "execution_count": 37,
     "metadata": {},
     "output_type": "execute_result"
    }
   ],
   "source": [
    "params_w1.mean(), params_w1.std()"
   ]
  },
  {
   "cell_type": "code",
   "execution_count": 38,
   "id": "14d52865",
   "metadata": {},
   "outputs": [
    {
     "data": {
      "text/plain": [
       "(-1.6227648904716474, 2.1701824215997902)"
      ]
     },
     "execution_count": 38,
     "metadata": {},
     "output_type": "execute_result"
    }
   ],
   "source": [
    "params_w0.mean(), params_w0.std()"
   ]
  },
  {
   "cell_type": "code",
   "execution_count": 39,
   "id": "d66faa3d",
   "metadata": {},
   "outputs": [
    {
     "name": "stdout",
     "output_type": "stream",
     "text": [
      "                            OLS Regression Results                            \n",
      "==============================================================================\n",
      "Dep. Variable:                      y   R-squared:                       0.803\n",
      "Model:                            OLS   Adj. R-squared:                  0.801\n",
      "Method:                 Least Squares   F-statistic:                     400.3\n",
      "Date:                Sat, 29 Jan 2022   Prob (F-statistic):           2.21e-36\n",
      "Time:                        18:20:04   Log-Likelihood:                -448.09\n",
      "No. Observations:                 100   AIC:                             900.2\n",
      "Df Residuals:                      98   BIC:                             905.4\n",
      "Df Model:                           1                                         \n",
      "Covariance Type:            nonrobust                                         \n",
      "==============================================================================\n",
      "                 coef    std err          t      P>|t|      [0.025      0.975]\n",
      "------------------------------------------------------------------------------\n",
      "const         -1.6284      2.163     -0.753      0.453      -5.920       2.663\n",
      "X1            42.8534      2.142     20.008      0.000      38.603      47.104\n",
      "==============================================================================\n",
      "Omnibus:                        3.523   Durbin-Watson:                   1.984\n",
      "Prob(Omnibus):                  0.172   Jarque-Bera (JB):                2.059\n",
      "Skew:                          -0.073   Prob(JB):                        0.357\n",
      "Kurtosis:                       2.312   Cond. No.                         1.06\n",
      "==============================================================================\n",
      "\n",
      "Notes:\n",
      "[1] Standard Errors assume that the covariance matrix of the errors is correctly specified.\n"
     ]
    }
   ],
   "source": [
    "print(result.summary())"
   ]
  },
  {
   "cell_type": "code",
   "execution_count": null,
   "id": "849f4fbd",
   "metadata": {},
   "outputs": [],
   "source": []
  },
  {
   "cell_type": "code",
   "execution_count": null,
   "id": "8631155e",
   "metadata": {},
   "outputs": [],
   "source": []
  },
  {
   "cell_type": "code",
   "execution_count": null,
   "id": "4ef636ca",
   "metadata": {},
   "outputs": [],
   "source": []
  },
  {
   "cell_type": "code",
   "execution_count": null,
   "id": "8440d9e6",
   "metadata": {},
   "outputs": [],
   "source": []
  },
  {
   "cell_type": "code",
   "execution_count": null,
   "id": "eaab5ad6",
   "metadata": {},
   "outputs": [],
   "source": []
  }
 ],
 "metadata": {
  "kernelspec": {
   "display_name": "Python 3 (ipykernel)",
   "language": "python",
   "name": "python3"
  },
  "language_info": {
   "codemirror_mode": {
    "name": "ipython",
    "version": 3
   },
   "file_extension": ".py",
   "mimetype": "text/x-python",
   "name": "python",
   "nbconvert_exporter": "python",
   "pygments_lexer": "ipython3",
   "version": "3.9.7"
  }
 },
 "nbformat": 4,
 "nbformat_minor": 5
}
