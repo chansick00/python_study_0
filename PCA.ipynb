{
 "cells": [
  {
   "cell_type": "code",
   "execution_count": 17,
   "id": "616535aa",
   "metadata": {},
   "outputs": [],
   "source": [
    "import numpy as np\n",
    "import pandas as pd\n",
    "\n",
    "from sklearn.decomposition import PCA"
   ]
  },
  {
   "cell_type": "code",
   "execution_count": 15,
   "id": "4d148c20",
   "metadata": {},
   "outputs": [
    {
     "name": "stdout",
     "output_type": "stream",
     "text": [
      "X.shape: (60, 3)\n"
     ]
    }
   ],
   "source": [
    "np.random.seed(4)\n",
    "m = 60\n",
    "w1, w2 = 0.1, 0.3\n",
    "noise = 0.1\n",
    "\n",
    "angles = np.random.rand(m) * 3 * np.pi / 2 - 0.5\n",
    "X = np.empty((m, 3))\n",
    "X[:, 0] = np.cos(angles) + np.sin(angles)/2 + noise * np.random.randn(m) / 2\n",
    "X[:, 1] = np.sin(angles) * 0.7 + noise * np.random.randn(m) / 2\n",
    "X[:, 2] = X[:, 0] * w1 + X[:, 1] * w2 + noise * np.random.randn(m)\n",
    "\n",
    "print('X.shape:', X.shape)"
   ]
  },
  {
   "cell_type": "code",
   "execution_count": 16,
   "id": "bf73c3c1",
   "metadata": {},
   "outputs": [
    {
     "data": {
      "text/html": [
       "<div>\n",
       "<style scoped>\n",
       "    .dataframe tbody tr th:only-of-type {\n",
       "        vertical-align: middle;\n",
       "    }\n",
       "\n",
       "    .dataframe tbody tr th {\n",
       "        vertical-align: top;\n",
       "    }\n",
       "\n",
       "    .dataframe thead th {\n",
       "        text-align: right;\n",
       "    }\n",
       "</style>\n",
       "<table border=\"1\" class=\"dataframe\">\n",
       "  <thead>\n",
       "    <tr style=\"text-align: right;\">\n",
       "      <th></th>\n",
       "      <th>$X_1$</th>\n",
       "      <th>$X_2$</th>\n",
       "      <th>$X_3$</th>\n",
       "    </tr>\n",
       "  </thead>\n",
       "  <tbody>\n",
       "    <tr>\n",
       "      <th>0</th>\n",
       "      <td>-1.015700</td>\n",
       "      <td>-0.550913</td>\n",
       "      <td>-0.261326</td>\n",
       "    </tr>\n",
       "    <tr>\n",
       "      <th>1</th>\n",
       "      <td>-0.007717</td>\n",
       "      <td>0.599586</td>\n",
       "      <td>0.035078</td>\n",
       "    </tr>\n",
       "    <tr>\n",
       "      <th>2</th>\n",
       "      <td>-0.953171</td>\n",
       "      <td>-0.464537</td>\n",
       "      <td>-0.249203</td>\n",
       "    </tr>\n",
       "    <tr>\n",
       "      <th>3</th>\n",
       "      <td>-0.920123</td>\n",
       "      <td>0.210096</td>\n",
       "      <td>0.021824</td>\n",
       "    </tr>\n",
       "    <tr>\n",
       "      <th>4</th>\n",
       "      <td>-0.763097</td>\n",
       "      <td>0.158261</td>\n",
       "      <td>0.191525</td>\n",
       "    </tr>\n",
       "    <tr>\n",
       "      <th>5</th>\n",
       "      <td>1.118161</td>\n",
       "      <td>0.325087</td>\n",
       "      <td>0.317106</td>\n",
       "    </tr>\n",
       "    <tr>\n",
       "      <th>6</th>\n",
       "      <td>-1.022589</td>\n",
       "      <td>-0.643841</td>\n",
       "      <td>-0.133687</td>\n",
       "    </tr>\n",
       "    <tr>\n",
       "      <th>7</th>\n",
       "      <td>0.673520</td>\n",
       "      <td>-0.273425</td>\n",
       "      <td>-0.007878</td>\n",
       "    </tr>\n",
       "    <tr>\n",
       "      <th>8</th>\n",
       "      <td>1.016196</td>\n",
       "      <td>0.515466</td>\n",
       "      <td>0.467833</td>\n",
       "    </tr>\n",
       "    <tr>\n",
       "      <th>9</th>\n",
       "      <td>0.549577</td>\n",
       "      <td>0.677280</td>\n",
       "      <td>0.234016</td>\n",
       "    </tr>\n",
       "  </tbody>\n",
       "</table>\n",
       "</div>"
      ],
      "text/plain": [
       "      $X_1$     $X_2$     $X_3$\n",
       "0 -1.015700 -0.550913 -0.261326\n",
       "1 -0.007717  0.599586  0.035078\n",
       "2 -0.953171 -0.464537 -0.249203\n",
       "3 -0.920123  0.210096  0.021824\n",
       "4 -0.763097  0.158261  0.191525\n",
       "5  1.118161  0.325087  0.317106\n",
       "6 -1.022589 -0.643841 -0.133687\n",
       "7  0.673520 -0.273425 -0.007878\n",
       "8  1.016196  0.515466  0.467833\n",
       "9  0.549577  0.677280  0.234016"
      ]
     },
     "execution_count": 16,
     "metadata": {},
     "output_type": "execute_result"
    }
   ],
   "source": [
    "df = pd.DataFrame(X, columns=['$X_1$', '$X_2$', '$X_3$'])\n",
    "df.head(10)"
   ]
  },
  {
   "cell_type": "code",
   "execution_count": 18,
   "id": "605de241",
   "metadata": {},
   "outputs": [
    {
     "data": {
      "text/plain": [
       "PCA(n_components=3)"
      ]
     },
     "execution_count": 18,
     "metadata": {},
     "output_type": "execute_result"
    }
   ],
   "source": [
    "pca = PCA(n_components=3)\n",
    "pca.fit(X)"
   ]
  },
  {
   "cell_type": "code",
   "execution_count": 19,
   "id": "d2b240dd",
   "metadata": {},
   "outputs": [
    {
     "name": "stdout",
     "output_type": "stream",
     "text": [
      "singular value : [6.77645005 2.82403671 0.78116597]\n",
      "singular vector :\n",
      " [[-0.93636116  0.34027485 -0.08626012]\n",
      " [-0.29854881 -0.90119108 -0.31420255]\n",
      " [-0.18465208 -0.2684542   0.94542898]]\n"
     ]
    }
   ],
   "source": [
    "print('singular value :', pca.singular_values_)\n",
    "print('singular vector :\\n', pca.components_.T)"
   ]
  },
  {
   "cell_type": "code",
   "execution_count": 20,
   "id": "2617f32b",
   "metadata": {},
   "outputs": [
    {
     "name": "stdout",
     "output_type": "stream",
     "text": [
      "eigen_value : [0.77830975 0.1351726  0.01034272]\n",
      "explained variance ratio : [0.84248607 0.14631839 0.01119554]\n"
     ]
    }
   ],
   "source": [
    "print('eigen_value :', pca.explained_variance_)\n",
    "print('explained variance ratio :', pca.explained_variance_ratio_)"
   ]
  },
  {
   "cell_type": "code",
   "execution_count": 21,
   "id": "394911b4",
   "metadata": {},
   "outputs": [
    {
     "name": "stdout",
     "output_type": "stream",
     "text": [
      "explained variance ratio : [0.84248607 0.14631839 0.01119554]\n"
     ]
    }
   ],
   "source": [
    "print('explained variance ratio :', pca.explained_variance_ratio_)"
   ]
  },
  {
   "cell_type": "code",
   "execution_count": 22,
   "id": "bdb40f90",
   "metadata": {},
   "outputs": [
    {
     "name": "stdout",
     "output_type": "stream",
     "text": [
      "explained variance ratio : [0.84248607 0.14631839 0.01119554]\n"
     ]
    }
   ],
   "source": [
    "print('explained variance ratio :', pca.explained_variance_ratio_)\n"
   ]
  },
  {
   "cell_type": "code",
   "execution_count": 23,
   "id": "30da3b65",
   "metadata": {},
   "outputs": [
    {
     "name": "stdout",
     "output_type": "stream",
     "text": [
      "principal component vec :\n",
      " [[-0.93636116  0.34027485]\n",
      " [-0.29854881 -0.90119108]\n",
      " [-0.18465208 -0.2684542 ]]\n"
     ]
    }
   ],
   "source": [
    "pca = PCA(n_components=0.95)\n",
    "X_proj = pca.fit_transform(X)\n",
    "\n",
    "print('principal component vec :\\n', pca.components_.T)"
   ]
  },
  {
   "cell_type": "code",
   "execution_count": null,
   "id": "b9ff4d5f",
   "metadata": {},
   "outputs": [],
   "source": []
  },
  {
   "cell_type": "code",
   "execution_count": null,
   "id": "4cdb8ca3",
   "metadata": {},
   "outputs": [],
   "source": []
  }
 ],
 "metadata": {
  "kernelspec": {
   "display_name": "Python 3 (ipykernel)",
   "language": "python",
   "name": "python3"
  },
  "language_info": {
   "codemirror_mode": {
    "name": "ipython",
    "version": 3
   },
   "file_extension": ".py",
   "mimetype": "text/x-python",
   "name": "python",
   "nbconvert_exporter": "python",
   "pygments_lexer": "ipython3",
   "version": "3.9.7"
  }
 },
 "nbformat": 4,
 "nbformat_minor": 5
}
