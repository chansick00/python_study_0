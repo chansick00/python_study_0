{
 "cells": [
  {
   "cell_type": "code",
   "execution_count": null,
   "id": "9218ce66",
   "metadata": {},
   "outputs": [],
   "source": [
    "import optuna\n",
    "from optuna import Trial, visualization\n",
    "from optuna.samplers import TPESampler\n",
    "\n",
    "from sklearn.metrics import mean_absolute_error"
   ]
  },
  {
   "cell_type": "markdown",
   "id": "42a37d02",
   "metadata": {},
   "source": [
    "- optuna.trial.Trial.suggest_categorical() : 리스트 범위 내에서 값을 선택한다.\n",
    "- optuna.trial.Trial.suggest_int() : 범위 내에서 정수형 값을 선택한다.\n",
    "- optuna.trial.Trial.suggest_float() : 범위 내에서 소수형 값을 선택한다.\n",
    "- optuna.trial.Trial.suggest_uniform() : 범위 내에서 균일분포 값을 선택한다.\n",
    "- optuna.trial.Trial.suggest_discrete_uniform() : 범위 내에서 이산 균일분포 값을 선택한다.\n",
    "- optuna.trial.Trial.suggest_loguniform() : 범위 내에서 로그 함수 값을 선택한다.\n",
    "\n",
    " https://hojjimin-statistic.tistory.com/27"
   ]
  },
  {
   "cell_type": "code",
   "execution_count": null,
   "id": "ebce7830",
   "metadata": {},
   "outputs": [],
   "source": [
    "# XGB 하이퍼 파라미터들 값 지정\n",
    "def objectiveXGB(trial: Trial, X, y, test):\n",
    "    param = {\n",
    "        'n_estimators' : trial.suggest_int('n_estimators', 500, 4000),\n",
    "        'max_depth' : trial.suggest_int('max_depth', 8, 16),\n",
    "        'min_child_weight' : trial.suggest_int('min_child_weight', 1, 300),\n",
    "        'gamma' : trial.suggest_int('gamma', 1, 3),\n",
    "        'learning_rate' : 0.01,\n",
    "        'colsample_bytree' : trial.suggest_discrete_uniform('colsample_bytree', 0.5, 1, 0.1),\n",
    "        'nthread' : -1,\n",
    "        # 'tree_method' : 'gpu_hist',\n",
    "        # 'predictor' : 'gpu_predictor',\n",
    "        'lambda' : trial.suggest_loguniform('lambda', 1e-3, 10.0),\n",
    "        'alpha' : trial.suggest_loguniform('alpha', 1e-3, 10.0),\n",
    "        'subsample' : trial.suggest_categorical('subsample', [0.6,0.7,0.8,1.0]),\n",
    "        'random_state' : 1127\n",
    "    }\n",
    "    \n",
    "    # 학습 모델 생성\n",
    "    model = XGBRegressor(**param)\n",
    "    xgb_model = model.fit(X, y, verbose=True) # 학습 진행\n",
    "    \n",
    "    # 모델 성능 확인\n",
    "    score = mean_absolute_error(xgb_model.predict(X), y)\n",
    "    \n",
    "    return score"
   ]
  },
  {
   "cell_type": "code",
   "execution_count": null,
   "id": "3dfde2fd",
   "metadata": {},
   "outputs": [],
   "source": [
    "# MAE가 최소가 되는 방향으로 학습을 진행\n",
    "# TPESampler : Sampler using TPE (Tree-structured Parzen Estimator) algorithm.\n",
    "study = optuna.create_study(direction='minimize', sampler=TPESampler())\n",
    "\n",
    "# n_trials 지정해주지 않으면, 무한 반복\n",
    "study.optimize(lambda trial : objectiveXGB(trial, X, y, X_test), n_trials = 50)\n",
    "\n",
    "print('Best trial : score {}, \\nparams {}'.format(study.best_trial.value, study.best_trial.params))"
   ]
  },
  {
   "cell_type": "code",
   "execution_count": null,
   "id": "1b830001",
   "metadata": {},
   "outputs": [],
   "source": [
    "optuna.visualization.plot_param_importances(study) # 파라미터 중요도 확인 그래프\n",
    "optuna.visualization.plot_optimization_history(study) # 최적화 과정 시각화"
   ]
  },
  {
   "cell_type": "code",
   "execution_count": null,
   "id": "1cf11e37",
   "metadata": {},
   "outputs": [],
   "source": [
    "optuna.visualization.plot_param_importances(study) # 파라미터 중요도 확인 그래프\n",
    "optuna.visualization.plot_optimization_history(study) # 최적화 과정 시각화"
   ]
  },
  {
   "cell_type": "code",
   "execution_count": null,
   "id": "af54edb6",
   "metadata": {},
   "outputs": [],
   "source": []
  }
 ],
 "metadata": {
  "kernelspec": {
   "display_name": "Python 3 (ipykernel)",
   "language": "python",
   "name": "python3"
  },
  "language_info": {
   "codemirror_mode": {
    "name": "ipython",
    "version": 3
   },
   "file_extension": ".py",
   "mimetype": "text/x-python",
   "name": "python",
   "nbconvert_exporter": "python",
   "pygments_lexer": "ipython3",
   "version": "3.9.7"
  }
 },
 "nbformat": 4,
 "nbformat_minor": 5
}
