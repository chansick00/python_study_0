{
 "cells": [
  {
   "cell_type": "code",
   "execution_count": 4,
   "id": "5a0a74ba",
   "metadata": {},
   "outputs": [],
   "source": [
    "# numpy 라이브러리를 불러옵니다.\n",
    "import numpy as np"
   ]
  },
  {
   "cell_type": "code",
   "execution_count": 5,
   "id": "ca3640a6",
   "metadata": {},
   "outputs": [
    {
     "data": {
      "text/plain": [
       "([1, 2, 3, 4, 5], list)"
      ]
     },
     "execution_count": 5,
     "metadata": {},
     "output_type": "execute_result"
    }
   ],
   "source": [
    "# 파이썬 리스트 선언\n",
    "data = [1, 2, 3, 4, 5]\n",
    "data, type(data)"
   ]
  },
  {
   "cell_type": "code",
   "execution_count": 6,
   "id": "755c3e3f",
   "metadata": {},
   "outputs": [
    {
     "data": {
      "text/plain": [
       "[[1, 2, 3], [4, 5, 6], [7, 8, 9]]"
      ]
     },
     "execution_count": 6,
     "metadata": {},
     "output_type": "execute_result"
    }
   ],
   "source": [
    "# 파이썬 2차원 리스트(행렬) 선언\n",
    "data2 = [[1,2,3],\n",
    "        [4,5,6],\n",
    "        [7,8,9]]\n",
    "data2"
   ]
  },
  {
   "cell_type": "code",
   "execution_count": 7,
   "id": "47d113bc",
   "metadata": {},
   "outputs": [
    {
     "data": {
      "text/plain": [
       "(5,)"
      ]
     },
     "execution_count": 7,
     "metadata": {},
     "output_type": "execute_result"
    }
   ],
   "source": [
    "# 파이썬 list를 numpy array로 변환합니다.\n",
    "arr1 = np.array(data)\n",
    "arr1, type(arr1)  #\n",
    "# numpy array를 만드는 방식의 대부분은 파이썬 리스트를 np.array로 변환하는 방식입니다.\n",
    "# np.array.shape은 np.array의 크기를 알려줍니다.\n",
    "arr1.shape\n",
    "# 5 x 1\n"
   ]
  },
  {
   "cell_type": "code",
   "execution_count": 10,
   "id": "359295f9",
   "metadata": {},
   "outputs": [
    {
     "data": {
      "text/plain": [
       "array([[1, 2, 3],\n",
       "       [4, 5, 6],\n",
       "       [7, 8, 9]])"
      ]
     },
     "execution_count": 10,
     "metadata": {},
     "output_type": "execute_result"
    }
   ],
   "source": [
    "# 2차원 리스트를 np.array로 만듭니다.\n",
    "arr2 = np.array(data2)\n",
    "arr2"
   ]
  },
  {
   "cell_type": "code",
   "execution_count": 12,
   "id": "917bdd85",
   "metadata": {},
   "outputs": [
    {
     "name": "stdout",
     "output_type": "stream",
     "text": [
      "(3, 3)\n",
      "arr의 차원 :  2\n",
      "arr2의 행, 열 크기 : (3, 3)\n",
      "arr2의 크기 :  9\n",
      "arr2의 datatype :  int32\n",
      "arr2의 원소의사이즈 4\n",
      "arr2의 nbytes :  36\n"
     ]
    }
   ],
   "source": [
    "print(arr2.shape)\n",
    "print('arr의 차원 : ',arr2.ndim)   # arr2의 차원\n",
    "\n",
    "print('arr2의 행, 열 크기 :', arr2.shape)  # arr2의 행, 열의 크기\n",
    "\n",
    "print('arr2의 크기 : ', arr2.size)        # arr2의 행 x 열\n",
    "\n",
    "print('arr2의 datatype : ', arr2.dtype)\n",
    "# arr2의 원소의 타입. # int64 : integer + 64bits\n",
    "\n",
    "print('arr2의 원소의사이즈', arr2.itemsize)\n",
    "# arr2의 원소의 사이즈(bytes) # 64bits = 8B\n",
    "\n",
    "print('arr2의 nbytes : ', arr2.nbytes)\n",
    "# itemsize * size # numpy array가 차지하는 메모리 공간."
   ]
  },
  {
   "cell_type": "code",
   "execution_count": 13,
   "id": "c738e282",
   "metadata": {},
   "outputs": [
    {
     "data": {
      "text/plain": [
       "array([0., 0., 0., 0., 0.])"
      ]
     },
     "execution_count": 13,
     "metadata": {},
     "output_type": "execute_result"
    }
   ],
   "source": [
    "# 0이 5개 있는 array\n",
    "np.zeros(5)"
   ]
  },
  {
   "cell_type": "code",
   "execution_count": 14,
   "id": "dcf465a6",
   "metadata": {},
   "outputs": [
    {
     "data": {
      "text/plain": [
       "array([0., 0., 0., 0., 0.])"
      ]
     },
     "execution_count": 14,
     "metadata": {},
     "output_type": "execute_result"
    }
   ],
   "source": [
    "# 0이 5개 있는 array\n",
    "np.zeros(5)"
   ]
  },
  {
   "cell_type": "code",
   "execution_count": 15,
   "id": "291e9a0b",
   "metadata": {},
   "outputs": [
    {
     "data": {
      "text/plain": [
       "array([1., 1., 1.])"
      ]
     },
     "execution_count": 15,
     "metadata": {},
     "output_type": "execute_result"
    }
   ],
   "source": [
    "# 1이 3개 있는 array\n",
    "np.ones(3)"
   ]
  },
  {
   "cell_type": "code",
   "execution_count": 16,
   "id": "f767b873",
   "metadata": {},
   "outputs": [
    {
     "data": {
      "text/plain": [
       "array([[1., 1.],\n",
       "       [1., 1.]])"
      ]
     },
     "execution_count": 16,
     "metadata": {},
     "output_type": "execute_result"
    }
   ],
   "source": [
    "# 1이 2x2인 array\n",
    "np.ones((2,2))"
   ]
  },
  {
   "cell_type": "code",
   "execution_count": 17,
   "id": "e51a8acc",
   "metadata": {},
   "outputs": [
    {
     "data": {
      "text/plain": [
       "array([0, 1, 2, 3, 4, 5, 6, 7, 8, 9])"
      ]
     },
     "execution_count": 17,
     "metadata": {},
     "output_type": "execute_result"
    }
   ],
   "source": [
    "# 0부터 9까지 숫자를 자동으로 생성한 array\n",
    "np.arange(10)"
   ]
  },
  {
   "cell_type": "code",
   "execution_count": 18,
   "id": "ac888fff",
   "metadata": {},
   "outputs": [
    {
     "data": {
      "text/plain": [
       "array([10, 11, 12, 13, 14, 15, 16, 17, 18, 19, 20, 21, 22, 23, 24, 25, 26,\n",
       "       27, 28, 29, 30, 31, 32, 33, 34, 35, 36, 37, 38, 39, 40, 41, 42, 43,\n",
       "       44, 45, 46, 47, 48, 49, 50, 51, 52, 53, 54, 55, 56, 57, 58, 59, 60,\n",
       "       61, 62, 63, 64, 65, 66, 67, 68, 69, 70, 71, 72, 73, 74, 75, 76, 77,\n",
       "       78, 79, 80, 81, 82, 83, 84, 85, 86, 87, 88, 89, 90, 91, 92, 93, 94,\n",
       "       95, 96, 97, 98, 99])"
      ]
     },
     "execution_count": 18,
     "metadata": {},
     "output_type": "execute_result"
    }
   ],
   "source": [
    "# 10부터 99까지 숫자를 자동으로 생성한 array\n",
    "np.arange(10, 100)"
   ]
  },
  {
   "cell_type": "code",
   "execution_count": 19,
   "id": "33009bbe",
   "metadata": {},
   "outputs": [
    {
     "data": {
      "text/plain": [
       "(numpy.ndarray, numpy.ndarray)"
      ]
     },
     "execution_count": 19,
     "metadata": {},
     "output_type": "execute_result"
    }
   ],
   "source": [
    "# v1 = (1, 2, 3), v2 = (4, 5, 6) 벡터 2개 생성하기.\n",
    "v1 = np.array((1, 2, 3))\n",
    "v2 = np.array((4, 5, 6))\n",
    "type(v1), type(v2)"
   ]
  },
  {
   "cell_type": "code",
   "execution_count": 20,
   "id": "17975240",
   "metadata": {},
   "outputs": [
    {
     "data": {
      "text/plain": [
       "(1, 2, 3, 4, 5, 6)"
      ]
     },
     "execution_count": 20,
     "metadata": {},
     "output_type": "execute_result"
    }
   ],
   "source": [
    "# 리스트로 더하기 연산해보기\n",
    "t1 = (1, 2, 3)\n",
    "t2 = (4, 5, 6)\n",
    "t1 + t2"
   ]
  },
  {
   "cell_type": "code",
   "execution_count": 21,
   "id": "62810018",
   "metadata": {},
   "outputs": [
    {
     "data": {
      "text/plain": [
       "array([5, 7, 9])"
      ]
     },
     "execution_count": 21,
     "metadata": {},
     "output_type": "execute_result"
    }
   ],
   "source": [
    "#  vector addition\n",
    "v1 + v2"
   ]
  },
  {
   "cell_type": "code",
   "execution_count": 22,
   "id": "7a1c4f7e",
   "metadata": {},
   "outputs": [
    {
     "data": {
      "text/plain": [
       "array([-3, -3, -3])"
      ]
     },
     "execution_count": 22,
     "metadata": {},
     "output_type": "execute_result"
    }
   ],
   "source": [
    "#  vector subtraction\n",
    "v1 - v2"
   ]
  },
  {
   "cell_type": "code",
   "execution_count": 23,
   "id": "915f8294",
   "metadata": {},
   "outputs": [
    {
     "data": {
      "text/plain": [
       "array([ 4, 10, 18])"
      ]
     },
     "execution_count": 23,
     "metadata": {},
     "output_type": "execute_result"
    }
   ],
   "source": [
    "# (not vector operation) elementwise multiplication\n",
    "v1 * v2"
   ]
  },
  {
   "cell_type": "code",
   "execution_count": 24,
   "id": "95fbf8e8",
   "metadata": {},
   "outputs": [
    {
     "data": {
      "text/plain": [
       "array([0.25, 0.4 , 0.5 ])"
      ]
     },
     "execution_count": 24,
     "metadata": {},
     "output_type": "execute_result"
    }
   ],
   "source": [
    "# (not vector operation) elementwise division\n",
    "v1 / v2"
   ]
  },
  {
   "cell_type": "code",
   "execution_count": 25,
   "id": "430fbb6e",
   "metadata": {},
   "outputs": [
    {
     "data": {
      "text/plain": [
       "32"
      ]
     },
     "execution_count": 25,
     "metadata": {},
     "output_type": "execute_result"
    }
   ],
   "source": [
    "# dot product\n",
    "v1 @ v2   # 1x4 + 2x5 + 3x6 = 32"
   ]
  },
  {
   "cell_type": "markdown",
   "id": "7ea86002",
   "metadata": {},
   "source": [
    "## Brodcast"
   ]
  },
  {
   "cell_type": "code",
   "execution_count": 26,
   "id": "59066063",
   "metadata": {},
   "outputs": [],
   "source": [
    "arr1 = np.array([[1, 2, 3],\n",
    "               [4, 5, 6]])"
   ]
  },
  {
   "cell_type": "code",
   "execution_count": 27,
   "id": "2b7e99f7",
   "metadata": {},
   "outputs": [
    {
     "data": {
      "text/plain": [
       "(2, 3)"
      ]
     },
     "execution_count": 27,
     "metadata": {},
     "output_type": "execute_result"
    }
   ],
   "source": [
    "arr1.shape"
   ]
  },
  {
   "cell_type": "code",
   "execution_count": 28,
   "id": "4325ff17",
   "metadata": {},
   "outputs": [],
   "source": [
    "arr2 = np.array([7, 8, 9])"
   ]
  },
  {
   "cell_type": "code",
   "execution_count": 29,
   "id": "ad1dca4f",
   "metadata": {},
   "outputs": [
    {
     "data": {
      "text/plain": [
       "(3,)"
      ]
     },
     "execution_count": 29,
     "metadata": {},
     "output_type": "execute_result"
    }
   ],
   "source": [
    "arr2.shape"
   ]
  },
  {
   "cell_type": "code",
   "execution_count": 30,
   "id": "e464ecf6",
   "metadata": {},
   "outputs": [
    {
     "data": {
      "text/plain": [
       "array([[ 8, 10, 12],\n",
       "       [11, 13, 15]])"
      ]
     },
     "execution_count": 30,
     "metadata": {},
     "output_type": "execute_result"
    }
   ],
   "source": [
    "# 2개의 array를 더해보면?\n",
    "arr1 + arr2            #[1, 2, 3] + [7, 8, 9] // [4, 5, 6] + [7, 8, 9]"
   ]
  },
  {
   "cell_type": "code",
   "execution_count": 31,
   "id": "9badd48e",
   "metadata": {},
   "outputs": [
    {
     "data": {
      "text/plain": [
       "array([[ 7, 16, 27],\n",
       "       [28, 40, 54]])"
      ]
     },
     "execution_count": 31,
     "metadata": {},
     "output_type": "execute_result"
    }
   ],
   "source": [
    "# 2개의 array를 곱해보면? (**)\n",
    "arr1 * arr2           # [1, 2, 3] * [7, 8, 9] // [4, 5, 6] * [7, ,8, 9]\n",
    "\n",
    "# [1, 2, 3] x [7]\n",
    "#[4, ,5, 6]   [8]\n",
    "#            [9]\n"
   ]
  },
  {
   "cell_type": "code",
   "execution_count": 32,
   "id": "96fad6f4",
   "metadata": {},
   "outputs": [
    {
     "data": {
      "text/plain": [
       "array([[10, 20, 30],\n",
       "       [40, 50, 60]])"
      ]
     },
     "execution_count": 32,
     "metadata": {},
     "output_type": "execute_result"
    }
   ],
   "source": [
    "# arr1에 10을 곱해보면?\n",
    "arr1 *10          "
   ]
  },
  {
   "cell_type": "code",
   "execution_count": 33,
   "id": "3a670d67",
   "metadata": {},
   "outputs": [
    {
     "data": {
      "text/plain": [
       "array([[ 1,  4,  9],\n",
       "       [16, 25, 36]])"
      ]
     },
     "execution_count": 33,
     "metadata": {},
     "output_type": "execute_result"
    }
   ],
   "source": [
    "# arr1을 제곱해보면?\n",
    "arr1 * arr1"
   ]
  },
  {
   "cell_type": "markdown",
   "id": "e5dc5aaf",
   "metadata": {},
   "source": [
    "## Universal Functions"
   ]
  },
  {
   "cell_type": "code",
   "execution_count": 34,
   "id": "aba85dbc",
   "metadata": {},
   "outputs": [
    {
     "data": {
      "text/plain": [
       "array([1., 2., 3.])"
      ]
     },
     "execution_count": 34,
     "metadata": {},
     "output_type": "execute_result"
    }
   ],
   "source": [
    "arr1 = np.array([1, 2, 3])\n",
    "arr1 / 1            #데이터 타입 변경"
   ]
  },
  {
   "cell_type": "code",
   "execution_count": 35,
   "id": "54c0e1ba",
   "metadata": {},
   "outputs": [
    {
     "data": {
      "text/plain": [
       "array([1.        , 0.5       , 0.33333333])"
      ]
     },
     "execution_count": 35,
     "metadata": {},
     "output_type": "execute_result"
    }
   ],
   "source": [
    "# 모든 원소를 역수를 취하려면 어떻게 해야할까?\n",
    "1 / arr1"
   ]
  },
  {
   "cell_type": "code",
   "execution_count": 36,
   "id": "13b0b2a1",
   "metadata": {},
   "outputs": [
    {
     "data": {
      "text/plain": [
       "array([3, 4, 5])"
      ]
     },
     "execution_count": 36,
     "metadata": {},
     "output_type": "execute_result"
    }
   ],
   "source": [
    "# 모든 원소에 2를 더하려면 어떻게 해야할까?\n",
    "arr1 + 2"
   ]
  },
  {
   "cell_type": "code",
   "execution_count": null,
   "id": "a3bae860",
   "metadata": {},
   "outputs": [],
   "source": []
  }
 ],
 "metadata": {
  "kernelspec": {
   "display_name": "Python 3 (ipykernel)",
   "language": "python",
   "name": "python3"
  },
  "language_info": {
   "codemirror_mode": {
    "name": "ipython",
    "version": 3
   },
   "file_extension": ".py",
   "mimetype": "text/x-python",
   "name": "python",
   "nbconvert_exporter": "python",
   "pygments_lexer": "ipython3",
   "version": "3.9.7"
  }
 },
 "nbformat": 4,
 "nbformat_minor": 5
}
