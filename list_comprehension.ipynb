{
 "cells": [
  {
   "cell_type": "markdown",
   "id": "7e71adc7",
   "metadata": {},
   "source": [
    "### 리스트 컴프리헨션\n",
    "- '리스트를 쉽게 짧게 한 줄로 만들 수 있는 파이썬의 문법"
   ]
  },
  {
   "cell_type": "code",
   "execution_count": 125,
   "id": "4c4d5125",
   "metadata": {},
   "outputs": [],
   "source": [
    "size = 10\n",
    "arr = [0] * size\n",
    "for i in range(size):\n",
    "    arr[i] = i * 2"
   ]
  },
  {
   "cell_type": "code",
   "execution_count": 122,
   "id": "543e962c",
   "metadata": {},
   "outputs": [
    {
     "data": {
      "text/plain": [
       "[0, 2, 4, 6, 8, 10, 12, 14, 16, 18]"
      ]
     },
     "execution_count": 122,
     "metadata": {},
     "output_type": "execute_result"
    }
   ],
   "source": [
    "arr"
   ]
  },
  {
   "cell_type": "markdown",
   "id": "18217b3f",
   "metadata": {},
   "source": [
    "### [( 변수를 활용한 값) for (사용할 변수 이름) in (순회할 수 있는 값)]"
   ]
  },
  {
   "cell_type": "code",
   "execution_count": 6,
   "id": "c23b88a5",
   "metadata": {},
   "outputs": [],
   "source": [
    "arr_1 =[i*2 for i in range(size) ]"
   ]
  },
  {
   "cell_type": "code",
   "execution_count": 7,
   "id": "b50bd434",
   "metadata": {},
   "outputs": [
    {
     "data": {
      "text/plain": [
       "[0, 2, 4, 6, 8, 10, 12, 14, 16, 18]"
      ]
     },
     "execution_count": 7,
     "metadata": {},
     "output_type": "execute_result"
    }
   ],
   "source": [
    "arr_1"
   ]
  },
  {
   "cell_type": "markdown",
   "id": "afa40d08",
   "metadata": {},
   "source": [
    "- arr원소를 각각 제곱하여 새로운 리스트 만들기"
   ]
  },
  {
   "cell_type": "code",
   "execution_count": 126,
   "id": "0af97415",
   "metadata": {},
   "outputs": [],
   "source": [
    "arr_2 = [n*n for n in arr]"
   ]
  },
  {
   "cell_type": "code",
   "execution_count": 127,
   "id": "9f4d854a",
   "metadata": {},
   "outputs": [
    {
     "data": {
      "text/plain": [
       "[0, 4, 16, 36, 64, 100, 144, 196, 256, 324]"
      ]
     },
     "execution_count": 127,
     "metadata": {},
     "output_type": "execute_result"
    }
   ],
   "source": [
    "arr_2"
   ]
  },
  {
   "cell_type": "markdown",
   "id": "91ca529b",
   "metadata": {},
   "source": [
    "- 문자열"
   ]
  },
  {
   "cell_type": "code",
   "execution_count": 14,
   "id": "5b660690",
   "metadata": {},
   "outputs": [],
   "source": [
    "word = '가나다'"
   ]
  },
  {
   "cell_type": "code",
   "execution_count": 15,
   "id": "a8bc0439",
   "metadata": {},
   "outputs": [
    {
     "data": {
      "text/plain": [
       "'가나다'"
      ]
     },
     "execution_count": 15,
     "metadata": {},
     "output_type": "execute_result"
    }
   ],
   "source": [
    "word"
   ]
  },
  {
   "cell_type": "code",
   "execution_count": 16,
   "id": "f85e187d",
   "metadata": {},
   "outputs": [
    {
     "data": {
      "text/plain": [
       "str"
      ]
     },
     "execution_count": 16,
     "metadata": {},
     "output_type": "execute_result"
    }
   ],
   "source": [
    "type(word)"
   ]
  },
  {
   "cell_type": "code",
   "execution_count": 18,
   "id": "d9db2a80",
   "metadata": {},
   "outputs": [
    {
     "data": {
      "text/plain": [
       "'가'"
      ]
     },
     "execution_count": 18,
     "metadata": {},
     "output_type": "execute_result"
    }
   ],
   "source": [
    "word[0]"
   ]
  },
  {
   "cell_type": "code",
   "execution_count": 21,
   "id": "8bd846ad",
   "metadata": {},
   "outputs": [],
   "source": [
    "a = [i*2 for i in word]"
   ]
  },
  {
   "cell_type": "code",
   "execution_count": 22,
   "id": "92b54258",
   "metadata": {},
   "outputs": [
    {
     "data": {
      "text/plain": [
       "['가가', '나나', '다다']"
      ]
     },
     "execution_count": 22,
     "metadata": {},
     "output_type": "execute_result"
    }
   ],
   "source": [
    "a"
   ]
  },
  {
   "cell_type": "markdown",
   "id": "849efe04",
   "metadata": {},
   "source": [
    "### 조건문 사용하기"
   ]
  },
  {
   "cell_type": "code",
   "execution_count": 25,
   "id": "ceab9f73",
   "metadata": {},
   "outputs": [],
   "source": [
    "size=10\n",
    "new_arr = [i for i in range(size) if i % 2 == 0]"
   ]
  },
  {
   "cell_type": "code",
   "execution_count": 26,
   "id": "5b13834e",
   "metadata": {},
   "outputs": [
    {
     "data": {
      "text/plain": [
       "[0, 2, 4, 6, 8]"
      ]
     },
     "execution_count": 26,
     "metadata": {},
     "output_type": "execute_result"
    }
   ],
   "source": [
    "new_arr"
   ]
  },
  {
   "cell_type": "markdown",
   "id": "bbf259c2",
   "metadata": {},
   "source": [
    "#### and\n",
    "- 'and' 를 쓰면  SyntaxError 발생\n",
    "- 'and' 없이 조건문을 나열해야한다."
   ]
  },
  {
   "cell_type": "code",
   "execution_count": 27,
   "id": "fa7dcba4",
   "metadata": {},
   "outputs": [
    {
     "data": {
      "text/plain": [
       "[6, 12, 18, 24, 30]"
      ]
     },
     "execution_count": 27,
     "metadata": {},
     "output_type": "execute_result"
    }
   ],
   "source": [
    "new_and = [i for i in range(1, 31) if i % 2 == 0 if i % 3 == 0]\n",
    "new_and"
   ]
  },
  {
   "cell_type": "code",
   "execution_count": 32,
   "id": "3b5374b9",
   "metadata": {},
   "outputs": [
    {
     "data": {
      "text/plain": [
       "[30]"
      ]
     },
     "execution_count": 32,
     "metadata": {},
     "output_type": "execute_result"
    }
   ],
   "source": [
    "new_arr = [i for i in range(1,31) if i % 2 == 0 if i % 3 == 0 if i % 5 == 0]\n",
    "new_arr"
   ]
  },
  {
   "cell_type": "code",
   "execution_count": 33,
   "id": "a2f382a5",
   "metadata": {},
   "outputs": [
    {
     "ename": "SyntaxError",
     "evalue": "invalid syntax (Temp/ipykernel_12040/2712286102.py, line 1)",
     "output_type": "error",
     "traceback": [
      "\u001b[1;36m  File \u001b[1;32m\"C:\\Users\\82107\\AppData\\Local\\Temp/ipykernel_12040/2712286102.py\"\u001b[1;36m, line \u001b[1;32m1\u001b[0m\n\u001b[1;33m    new_and = [i for i in range(1, 31) if i % 2 == 0 and if i % 3 == 0]\u001b[0m\n\u001b[1;37m                                                         ^\u001b[0m\n\u001b[1;31mSyntaxError\u001b[0m\u001b[1;31m:\u001b[0m invalid syntax\n"
     ]
    }
   ],
   "source": [
    "new_and = [i for i in range(1, 31) if i % 2 == 0 and if i % 3 == 0]\n",
    "new_and"
   ]
  },
  {
   "cell_type": "markdown",
   "id": "c53189d1",
   "metadata": {},
   "source": [
    "#### or \n",
    "- if문을 여러개 쓰지 말고, if문 하나에서 'or'연산자 사용"
   ]
  },
  {
   "cell_type": "code",
   "execution_count": 34,
   "id": "3d114134",
   "metadata": {},
   "outputs": [
    {
     "data": {
      "text/plain": [
       "[2, 3, 4, 6, 8, 9, 10, 12, 14, 15, 16, 18, 20, 21, 22, 24, 26, 27, 28, 30]"
      ]
     },
     "execution_count": 34,
     "metadata": {},
     "output_type": "execute_result"
    }
   ],
   "source": [
    "new_and = [i for i in range(1, 31) if i % 2 == 0 or i % 3 == 0]\n",
    "new_and"
   ]
  },
  {
   "cell_type": "markdown",
   "id": "e4337b5a",
   "metadata": {},
   "source": [
    "### 다차원 리스트 차원 축소하기"
   ]
  },
  {
   "cell_type": "code",
   "execution_count": 106,
   "id": "8a3c22b2",
   "metadata": {},
   "outputs": [],
   "source": [
    "# 4x3의 행렬\n",
    "a = [[1, 2, 3], \n",
    "       [4, 5, 6],\n",
    "       [7, 8, 9],\n",
    "       [10, 11, 12],\n",
    "      ]"
   ]
  },
  {
   "cell_type": "code",
   "execution_count": 83,
   "id": "44881f4a",
   "metadata": {},
   "outputs": [
    {
     "name": "stdout",
     "output_type": "stream",
     "text": [
      "4\n",
      "3\n"
     ]
    }
   ],
   "source": [
    "print(len(a))\n",
    "print(len(a[0]))"
   ]
  },
  {
   "cell_type": "code",
   "execution_count": 130,
   "id": "8ae814ab",
   "metadata": {
    "scrolled": true
   },
   "outputs": [
    {
     "name": "stdout",
     "output_type": "stream",
     "text": [
      "[1, 2, 3, 4, 5, 6, 7, 8, 9, 10, 11, 12]\n"
     ]
    }
   ],
   "source": [
    "flat_one = [n for row in a for n in row]\n",
    "print(flat_one)"
   ]
  },
  {
   "cell_type": "code",
   "execution_count": 131,
   "id": "d0ee70f2",
   "metadata": {},
   "outputs": [
    {
     "name": "stdout",
     "output_type": "stream",
     "text": [
      "[1, 2, 3, 4, 5, 6, 7, 8, 9, 10, 11, 12]\n"
     ]
    }
   ],
   "source": [
    "flat_one2 = []\n",
    "\n",
    "for row in a:\n",
    "    for n in row:\n",
    "        flat_one2.append(n)\n",
    "\n",
    "print(flat_one2)"
   ]
  },
  {
   "cell_type": "markdown",
   "id": "7363b7e1",
   "metadata": {},
   "source": [
    "### 구조 유지하며 각 셀의 값 제곱하기"
   ]
  },
  {
   "cell_type": "code",
   "execution_count": 135,
   "id": "6b0a7eb9",
   "metadata": {},
   "outputs": [
    {
     "data": {
      "text/plain": [
       "[[1, 4, 9], [16, 25, 36], [49, 64, 81], [100, 121, 144]]"
      ]
     },
     "execution_count": 135,
     "metadata": {},
     "output_type": "execute_result"
    }
   ],
   "source": [
    "square_list = [[n**2 for n in row] for row in a]\n",
    "# square_list = [A for row in a]\n",
    "\n",
    "square_list"
   ]
  },
  {
   "cell_type": "code",
   "execution_count": null,
   "id": "3af27a34",
   "metadata": {},
   "outputs": [],
   "source": []
  }
 ],
 "metadata": {
  "kernelspec": {
   "display_name": "Python 3 (ipykernel)",
   "language": "python",
   "name": "python3"
  },
  "language_info": {
   "codemirror_mode": {
    "name": "ipython",
    "version": 3
   },
   "file_extension": ".py",
   "mimetype": "text/x-python",
   "name": "python",
   "nbconvert_exporter": "python",
   "pygments_lexer": "ipython3",
   "version": "3.9.7"
  }
 },
 "nbformat": 4,
 "nbformat_minor": 5
}
