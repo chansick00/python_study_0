{
 "cells": [
  {
   "cell_type": "code",
   "execution_count": 2,
   "id": "36ad135a",
   "metadata": {},
   "outputs": [],
   "source": [
    "import numpy as np\n",
    "import pandas as pd\n",
    "import sklearn as sk\n",
    "import statsmodels.api as sm\n",
    "import seaborn as sns\n",
    "import matplotlib.pylab as plt\n",
    "import matplotlib as mpl"
   ]
  },
  {
   "cell_type": "code",
   "execution_count": 13,
   "id": "b4c955bd",
   "metadata": {},
   "outputs": [],
   "source": [
    "import scipy as sp"
   ]
  },
  {
   "cell_type": "code",
   "execution_count": 16,
   "id": "0177c06b",
   "metadata": {},
   "outputs": [],
   "source": [
    "import warnings\n",
    "warnings.filterwarnings(\"ignore\")"
   ]
  },
  {
   "cell_type": "code",
   "execution_count": 9,
   "id": "fae0722a",
   "metadata": {},
   "outputs": [],
   "source": [
    "from sklearn.datasets import make_regression\n",
    "\n",
    "X0, y, coef = make_regression(\n",
    "    n_samples=100, n_features=1, noise=30, coef=True, random_state=0)\n",
    "dfX0 = pd.DataFrame(X0, columns=['X'])\n",
    "dfX = sm.add_constant(dfX0)\n",
    "dfy = pd.DataFrame(y, columns=['Y'])\n",
    "df = pd.concat([dfX, dfy], axis=1)\n",
    "\n",
    "model = sm.OLS.from_formula('Y ~ X', data = df)\n",
    "result = model.fit()"
   ]
  },
  {
   "cell_type": "code",
   "execution_count": 11,
   "id": "5fe1d1d6",
   "metadata": {},
   "outputs": [
    {
     "name": "stdout",
     "output_type": "stream",
     "text": [
      "TSS =  291345.7578983061\n",
      "ESS =  188589.61349210917\n",
      "RSS =  102754.33755137534\n",
      "ESS + RSS =  291343.9510434845\n",
      "R squared =  0.6473091780922585\n"
     ]
    }
   ],
   "source": [
    "print(\"TSS = \", result.uncentered_tss)\n",
    "print(\"ESS = \", result.mse_model)\n",
    "print('RSS = ', result.ssr)\n",
    "print(\"ESS + RSS = \", result.mse_model + result.ssr)\n",
    "print(\"R squared = \", result.rsquared)"
   ]
  },
  {
   "cell_type": "code",
   "execution_count": 24,
   "id": "6c897172",
   "metadata": {},
   "outputs": [
    {
     "data": {
      "image/png": "[encoded data removed]",
      "text/plain": [
       "<Figure size 432x288 with 1 Axes>"
      ]
     },
     "metadata": {
      "needs_background": "light"
     },
     "output_type": "display_data"
    }
   ],
   "source": [
    "sns.distplot(y,\n",
    "             kde=False, fit=sp.stats.norm, hist_kws={\"color\": \"r\", \"alpha\": 0.2}, fit_kws={\"color\": \"r\"},\n",
    "             label=\"TSS\")\n",
    "sns.distplot(result.fittedvalues,\n",
    "             kde=False, hist_kws={\"color\": \"g\", \"alpha\": 0.2}, fit=sp.stats.norm, fit_kws={\"color\": \"g\"},\n",
    "             label=\"ESS\")\n",
    "sns.distplot(result.resid,\n",
    "             kde=False, hist_kws={\"color\": \"b\", \"alpha\": 0.2}, fit=sp.stats.norm, fit_kws={\"color\": \"b\"},\n",
    "             label=\"RSS\")\n",
    "plt.legend()   # 범례 추가 \n",
    "plt.show()\n"
   ]
  },
  {
   "cell_type": "code",
   "execution_count": null,
   "id": "5afedb97",
   "metadata": {},
   "outputs": [],
   "source": []
  },
  {
   "cell_type": "code",
   "execution_count": null,
   "id": "c86b1c96",
   "metadata": {},
   "outputs": [],
   "source": []
  },
  {
   "cell_type": "code",
   "execution_count": null,
   "id": "ed4f8686",
   "metadata": {},
   "outputs": [],
   "source": []
  },
  {
   "cell_type": "code",
   "execution_count": null,
   "id": "d487fb07",
   "metadata": {},
   "outputs": [],
   "source": []
  },
  {
   "cell_type": "code",
   "execution_count": null,
   "id": "fdc67330",
   "metadata": {},
   "outputs": [],
   "source": []
  },
  {
   "cell_type": "code",
   "execution_count": null,
   "id": "c4d88187",
   "metadata": {},
   "outputs": [],
   "source": []
  },
  {
   "cell_type": "code",
   "execution_count": null,
   "id": "72b17252",
   "metadata": {},
   "outputs": [],
   "source": []
  },
  {
   "cell_type": "code",
   "execution_count": null,
   "id": "4f707285",
   "metadata": {},
   "outputs": [],
   "source": []
  },
  {
   "cell_type": "code",
   "execution_count": null,
   "id": "44920388",
   "metadata": {},
   "outputs": [],
   "source": []
  },
  {
   "cell_type": "code",
   "execution_count": null,
   "id": "9ee53fb7",
   "metadata": {},
   "outputs": [],
   "source": []
  },
  {
   "cell_type": "code",
   "execution_count": null,
   "id": "6d39a61b",
   "metadata": {},
   "outputs": [],
   "source": []
  }
 ],
 "metadata": {
  "kernelspec": {
   "display_name": "Python 3 (ipykernel)",
   "language": "python",
   "name": "python3"
  },
  "language_info": {
   "codemirror_mode": {
    "name": "ipython",
    "version": 3
   },
   "file_extension": ".py",
   "mimetype": "text/x-python",
   "name": "python",
   "nbconvert_exporter": "python",
   "pygments_lexer": "ipython3",
   "version": "3.9.7"
  }
 },
 "nbformat": 4,
 "nbformat_minor": 5
}
