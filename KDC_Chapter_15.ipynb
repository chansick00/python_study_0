{
 "cells": [
  {
   "cell_type": "markdown",
   "metadata": {},
   "source": [
    "# <center>올인원 패키지 : 머신러닝과 데이터분석 A-Z</center>"
   ]
  },
  {
   "cell_type": "markdown",
   "metadata": {},
   "source": [
    "### # Domain Knowledge 2 : 광고성과지표\n",
    "| 광고성과지표 | = | 계산식 |\n",
    "|:---------- |---------- |:---------- |\n",
    "|CTR(Click Through Rate)|=|클릭수 / 노출수 * 100|\n",
    "|CPM(Cost Per Mile)|=|광고비용 / 노출수 * 1000|\n",
    "|CPC(Cost Per Click)|=|광고비용 / 클릭수|\n",
    "|CPA(Cost Per Action)|=|광고비용 / 구매수|"
   ]
  },
  {
   "cell_type": "code",
   "execution_count": 61,
   "metadata": {},
   "outputs": [],
   "source": [
    "imp=10000            # 노출 수 \n",
    "clk=100              # 클릭 수 \n",
    "conv=10              # 구매 수 \n",
    "cost=100000          # 광고비용 "
   ]
  },
  {
   "cell_type": "code",
   "execution_count": 62,
   "metadata": {},
   "outputs": [],
   "source": [
    "# ctr\n",
    "ctr = clk / imp *100"
   ]
  },
  {
   "cell_type": "code",
   "execution_count": 63,
   "metadata": {},
   "outputs": [
    {
     "data": {
      "text/plain": [
       "1.0"
      ]
     },
     "execution_count": 63,
     "metadata": {},
     "output_type": "execute_result"
    }
   ],
   "source": [
    "#ctr 출력\n",
    "ctr"
   ]
  },
  {
   "cell_type": "code",
   "execution_count": 65,
   "metadata": {},
   "outputs": [],
   "source": [
    "# cpm\n",
    "cpm = cost / imp *1000"
   ]
  },
  {
   "cell_type": "code",
   "execution_count": 66,
   "metadata": {},
   "outputs": [
    {
     "data": {
      "text/plain": [
       "10000.0"
      ]
     },
     "execution_count": 66,
     "metadata": {},
     "output_type": "execute_result"
    }
   ],
   "source": [
    "#cpm 출력\n",
    "cpm"
   ]
  },
  {
   "cell_type": "code",
   "execution_count": 67,
   "metadata": {},
   "outputs": [],
   "source": [
    "# cpc\n",
    "cpc = cost / conv"
   ]
  },
  {
   "cell_type": "code",
   "execution_count": 68,
   "metadata": {},
   "outputs": [
    {
     "data": {
      "text/plain": [
       "10000.0"
      ]
     },
     "execution_count": 68,
     "metadata": {},
     "output_type": "execute_result"
    }
   ],
   "source": [
    "#cpc 출력\n",
    "cpc"
   ]
  },
  {
   "cell_type": "code",
   "execution_count": 69,
   "metadata": {},
   "outputs": [],
   "source": [
    "# cpa \n",
    "cpa = cost / conv"
   ]
  },
  {
   "cell_type": "code",
   "execution_count": 70,
   "metadata": {},
   "outputs": [
    {
     "data": {
      "text/plain": [
       "10000.0"
      ]
     },
     "execution_count": 70,
     "metadata": {},
     "output_type": "execute_result"
    }
   ],
   "source": [
    "#cpa 출력\n",
    "cpa"
   ]
  },
  {
   "cell_type": "markdown",
   "metadata": {},
   "source": [
    "# Matplotlib \n",
    "###    - 시각화 라이브러리"
   ]
  },
  {
   "cell_type": "markdown",
   "metadata": {},
   "source": [
    "### # 데이터 분석과정과 시각화"
   ]
  },
  {
   "cell_type": "markdown",
   "metadata": {},
   "source": [
    "- 머신러닝의 과정\n",
    " 1. 데이터 수집\n",
    " 2. 데이터 전처리 \n",
    " 3. 데이터 탐색 ★\n",
    " 4. 모델 선택\n",
    " 5. 모델 평가 및 적용"
   ]
  },
  {
   "cell_type": "markdown",
   "metadata": {},
   "source": [
    "### # 시각화의 필요성\n",
    "1. 대량의 데이터 파악 가능\n",
    "2. 데이터의 패턴 파악 가능"
   ]
  },
  {
   "cell_type": "code",
   "execution_count": 8,
   "metadata": {},
   "outputs": [],
   "source": [
    "import matplotlib.pyplot as plt"
   ]
  },
  {
   "cell_type": "code",
   "execution_count": 9,
   "metadata": {},
   "outputs": [],
   "source": [
    "import pandas as pd\n",
    "from pandas import DataFrame\n",
    "from pandas import Series"
   ]
  },
  {
   "cell_type": "code",
   "execution_count": 10,
   "metadata": {},
   "outputs": [],
   "source": [
    "# matplotlib 한글 폰트 출력코드\n",
    "# 출처 : 데이터공방( https://kiddwannabe.blog.me)\n",
    "\n",
    "import matplotlib\n",
    "from matplotlib import font_manager, rc\n",
    "import platform\n",
    "\n",
    "try : \n",
    "    if platform.system() == 'Windows':\n",
    "    # 윈도우인 경우\n",
    "        font_name = font_manager.FontProperties(fname=\"c:/Windows/Fonts/malgun.ttf\").get_name()\n",
    "        rc('font', family=font_name)\n",
    "    else:    \n",
    "    # Mac 인 경우\n",
    "        rc('font', family='AppleGothic')\n",
    "except : \n",
    "    pass\n",
    "matplotlib.rcParams['axes.unicode_minus'] = False   "
   ]
  },
  {
   "cell_type": "code",
   "execution_count": 11,
   "metadata": {},
   "outputs": [],
   "source": [
    "import pandas as pd\n",
    "from pandas import DataFrame\n",
    "from pandas import Series"
   ]
  },
  {
   "cell_type": "code",
   "execution_count": 12,
   "metadata": {},
   "outputs": [],
   "source": [
    "df=pd.read_excel('/Users/junghs/네이버보고서.xls',skiprows=[0])"
   ]
  },
  {
   "cell_type": "code",
   "execution_count": 6,
   "metadata": {},
   "outputs": [
    {
     "data": {
      "text/html": [
       "<div>\n",
       "<style scoped>\n",
       "    .dataframe tbody tr th:only-of-type {\n",
       "        vertical-align: middle;\n",
       "    }\n",
       "\n",
       "    .dataframe tbody tr th {\n",
       "        vertical-align: top;\n",
       "    }\n",
       "\n",
       "    .dataframe thead th {\n",
       "        text-align: right;\n",
       "    }\n",
       "</style>\n",
       "<table border=\"1\" class=\"dataframe\">\n",
       "  <thead>\n",
       "    <tr style=\"text-align: right;\">\n",
       "      <th></th>\n",
       "      <th>광고그룹</th>\n",
       "      <th>키워드</th>\n",
       "      <th>노출수</th>\n",
       "      <th>클릭수</th>\n",
       "      <th>클릭률(%)</th>\n",
       "      <th>평균클릭비용(VAT포함,원)</th>\n",
       "      <th>총비용(VAT포함,원)</th>\n",
       "    </tr>\n",
       "  </thead>\n",
       "  <tbody>\n",
       "    <tr>\n",
       "      <th>0</th>\n",
       "      <td>올인원 패키지 : 디자인 툴_파워컨텐츠_포토샵</td>\n",
       "      <td>-</td>\n",
       "      <td>2319456</td>\n",
       "      <td>9606.0</td>\n",
       "      <td>0.414149</td>\n",
       "      <td>261.549448</td>\n",
       "      <td>2512444</td>\n",
       "    </tr>\n",
       "    <tr>\n",
       "      <th>1</th>\n",
       "      <td>올인원 패키지 : 업무자동화_VBA</td>\n",
       "      <td>-</td>\n",
       "      <td>767491</td>\n",
       "      <td>8058.0</td>\n",
       "      <td>1.049915</td>\n",
       "      <td>295.974808</td>\n",
       "      <td>2384965</td>\n",
       "    </tr>\n",
       "    <tr>\n",
       "      <th>2</th>\n",
       "      <td>ㅍAOP 전체_중복키워드_디자인(삭제)</td>\n",
       "      <td>일러스트</td>\n",
       "      <td>1137840</td>\n",
       "      <td>324.0</td>\n",
       "      <td>0.028475</td>\n",
       "      <td>4841.663580</td>\n",
       "      <td>1568699</td>\n",
       "    </tr>\n",
       "    <tr>\n",
       "      <th>3</th>\n",
       "      <td>올인원 패키지 : 데이터 분석 입문 온라인_파콘</td>\n",
       "      <td>-</td>\n",
       "      <td>694106</td>\n",
       "      <td>1863.6</td>\n",
       "      <td>0.268489</td>\n",
       "      <td>630.593475</td>\n",
       "      <td>1175174</td>\n",
       "    </tr>\n",
       "    <tr>\n",
       "      <th>4</th>\n",
       "      <td>3. html</td>\n",
       "      <td>HTML</td>\n",
       "      <td>9626374</td>\n",
       "      <td>813.6</td>\n",
       "      <td>0.008452</td>\n",
       "      <td>1408.435349</td>\n",
       "      <td>1145903</td>\n",
       "    </tr>\n",
       "    <tr>\n",
       "      <th>5</th>\n",
       "      <td>6. 파이썬</td>\n",
       "      <td>파이썬</td>\n",
       "      <td>384522</td>\n",
       "      <td>260.4</td>\n",
       "      <td>0.067720</td>\n",
       "      <td>3705.360983</td>\n",
       "      <td>964876</td>\n",
       "    </tr>\n",
       "    <tr>\n",
       "      <th>6</th>\n",
       "      <td>1. 코딩</td>\n",
       "      <td>코딩</td>\n",
       "      <td>562162</td>\n",
       "      <td>271.2</td>\n",
       "      <td>0.048242</td>\n",
       "      <td>3243.215339</td>\n",
       "      <td>879560</td>\n",
       "    </tr>\n",
       "    <tr>\n",
       "      <th>7</th>\n",
       "      <td>2. C언어 일반</td>\n",
       "      <td>C언어</td>\n",
       "      <td>271370</td>\n",
       "      <td>153.6</td>\n",
       "      <td>0.056602</td>\n",
       "      <td>5269.257812</td>\n",
       "      <td>809358</td>\n",
       "    </tr>\n",
       "    <tr>\n",
       "      <th>8</th>\n",
       "      <td>프로그래밍 전체_파워컨텐츠_블록체인(삭제)</td>\n",
       "      <td>가상화폐</td>\n",
       "      <td>91369</td>\n",
       "      <td>2838.0</td>\n",
       "      <td>3.106086</td>\n",
       "      <td>283.217054</td>\n",
       "      <td>803770</td>\n",
       "    </tr>\n",
       "    <tr>\n",
       "      <th>9</th>\n",
       "      <td>AOP 전체_중복키워드_디자인</td>\n",
       "      <td>포토샵</td>\n",
       "      <td>1887822</td>\n",
       "      <td>393.6</td>\n",
       "      <td>0.020849</td>\n",
       "      <td>1913.737297</td>\n",
       "      <td>753247</td>\n",
       "    </tr>\n",
       "    <tr>\n",
       "      <th>10</th>\n",
       "      <td>디지털 마케팅 스쿨 13기_대표키워드</td>\n",
       "      <td>마케팅교육</td>\n",
       "      <td>11661</td>\n",
       "      <td>140.4</td>\n",
       "      <td>1.204013</td>\n",
       "      <td>5001.631054</td>\n",
       "      <td>702229</td>\n",
       "    </tr>\n",
       "    <tr>\n",
       "      <th>11</th>\n",
       "      <td>인스타그램 마케팅</td>\n",
       "      <td>인스타팔로워늘리기</td>\n",
       "      <td>36201</td>\n",
       "      <td>873.6</td>\n",
       "      <td>2.413193</td>\n",
       "      <td>769.005266</td>\n",
       "      <td>671803</td>\n",
       "    </tr>\n",
       "    <tr>\n",
       "      <th>12</th>\n",
       "      <td>블록체인 신사업 시작하기</td>\n",
       "      <td>블록체인</td>\n",
       "      <td>200243</td>\n",
       "      <td>236.4</td>\n",
       "      <td>0.118057</td>\n",
       "      <td>2721.988156</td>\n",
       "      <td>643478</td>\n",
       "    </tr>\n",
       "    <tr>\n",
       "      <th>13</th>\n",
       "      <td>AOP 전체_중복키워드_비지니스</td>\n",
       "      <td>엑셀</td>\n",
       "      <td>1470452</td>\n",
       "      <td>450.0</td>\n",
       "      <td>0.030603</td>\n",
       "      <td>1408.660000</td>\n",
       "      <td>633897</td>\n",
       "    </tr>\n",
       "    <tr>\n",
       "      <th>14</th>\n",
       "      <td>올인원 패키지 : 업무자동화_VBA</td>\n",
       "      <td>엑셀배우기</td>\n",
       "      <td>18588</td>\n",
       "      <td>2097.6</td>\n",
       "      <td>11.284700</td>\n",
       "      <td>268.340008</td>\n",
       "      <td>562870</td>\n",
       "    </tr>\n",
       "    <tr>\n",
       "      <th>15</th>\n",
       "      <td>올인원 패키지 : 업무자동화_VBA</td>\n",
       "      <td>엑셀자격증</td>\n",
       "      <td>37558</td>\n",
       "      <td>1770.0</td>\n",
       "      <td>4.712711</td>\n",
       "      <td>288.802825</td>\n",
       "      <td>511181</td>\n",
       "    </tr>\n",
       "    <tr>\n",
       "      <th>16</th>\n",
       "      <td>올인원 패키지 : 업무자동화_2. 파이썬</td>\n",
       "      <td>파이썬교육</td>\n",
       "      <td>1226</td>\n",
       "      <td>56.4</td>\n",
       "      <td>4.600326</td>\n",
       "      <td>8831.010638</td>\n",
       "      <td>498069</td>\n",
       "    </tr>\n",
       "    <tr>\n",
       "      <th>17</th>\n",
       "      <td>올인원 패키지 : 1인 쇼핑몰 시작하기_00.창업_PC</td>\n",
       "      <td>인터넷쇼핑몰창업</td>\n",
       "      <td>17912</td>\n",
       "      <td>152.4</td>\n",
       "      <td>0.850826</td>\n",
       "      <td>3200.104987</td>\n",
       "      <td>487696</td>\n",
       "    </tr>\n",
       "    <tr>\n",
       "      <th>18</th>\n",
       "      <td>올인원 패키지 : 영상 제작/편집_6.프리미어프로</td>\n",
       "      <td>영상편집</td>\n",
       "      <td>125885</td>\n",
       "      <td>90.0</td>\n",
       "      <td>0.071494</td>\n",
       "      <td>5367.022222</td>\n",
       "      <td>483032</td>\n",
       "    </tr>\n",
       "    <tr>\n",
       "      <th>19</th>\n",
       "      <td>6. 파이썬</td>\n",
       "      <td>파이썬인강</td>\n",
       "      <td>3175</td>\n",
       "      <td>196.8</td>\n",
       "      <td>6.198425</td>\n",
       "      <td>2431.234756</td>\n",
       "      <td>478467</td>\n",
       "    </tr>\n",
       "    <tr>\n",
       "      <th>20</th>\n",
       "      <td>1. 모바일앱개발_교육</td>\n",
       "      <td>어플개발</td>\n",
       "      <td>8033</td>\n",
       "      <td>84.0</td>\n",
       "      <td>1.045687</td>\n",
       "      <td>5427.845238</td>\n",
       "      <td>455939</td>\n",
       "    </tr>\n",
       "    <tr>\n",
       "      <th>21</th>\n",
       "      <td>올인원 패키지 : UX/UI 디자인 입문_연관검색어</td>\n",
       "      <td>UIUX디자인</td>\n",
       "      <td>9627</td>\n",
       "      <td>118.8</td>\n",
       "      <td>1.234029</td>\n",
       "      <td>3684.907407</td>\n",
       "      <td>437767</td>\n",
       "    </tr>\n",
       "    <tr>\n",
       "      <th>22</th>\n",
       "      <td>1. 코딩</td>\n",
       "      <td>코딩인강</td>\n",
       "      <td>2503</td>\n",
       "      <td>218.4</td>\n",
       "      <td>8.725529</td>\n",
       "      <td>1962.774725</td>\n",
       "      <td>428670</td>\n",
       "    </tr>\n",
       "    <tr>\n",
       "      <th>23</th>\n",
       "      <td>1. 모바일앱개발_교육</td>\n",
       "      <td>앱개발</td>\n",
       "      <td>23962</td>\n",
       "      <td>103.2</td>\n",
       "      <td>0.430682</td>\n",
       "      <td>3983.449612</td>\n",
       "      <td>411092</td>\n",
       "    </tr>\n",
       "    <tr>\n",
       "      <th>24</th>\n",
       "      <td>1. 모바일앱개발_교육</td>\n",
       "      <td>어플제작</td>\n",
       "      <td>6496</td>\n",
       "      <td>79.2</td>\n",
       "      <td>1.219212</td>\n",
       "      <td>5185.000000</td>\n",
       "      <td>410652</td>\n",
       "    </tr>\n",
       "    <tr>\n",
       "      <th>25</th>\n",
       "      <td>올인원 패키지 : 데이터 분석 입문(파컨)</td>\n",
       "      <td>-</td>\n",
       "      <td>139717</td>\n",
       "      <td>618.0</td>\n",
       "      <td>0.442323</td>\n",
       "      <td>636.451456</td>\n",
       "      <td>393327</td>\n",
       "    </tr>\n",
       "    <tr>\n",
       "      <th>26</th>\n",
       "      <td>올인원 패키지 : 디자인 툴_파워컨텐츠_포토샵</td>\n",
       "      <td>포토샵</td>\n",
       "      <td>124068</td>\n",
       "      <td>2535.6</td>\n",
       "      <td>2.043718</td>\n",
       "      <td>150.401877</td>\n",
       "      <td>381359</td>\n",
       "    </tr>\n",
       "    <tr>\n",
       "      <th>27</th>\n",
       "      <td>올인원 패키지 : 디자인 툴_파워컨텐츠_포토샵</td>\n",
       "      <td>영상편집</td>\n",
       "      <td>10710</td>\n",
       "      <td>278.4</td>\n",
       "      <td>2.599440</td>\n",
       "      <td>1352.794540</td>\n",
       "      <td>376618</td>\n",
       "    </tr>\n",
       "    <tr>\n",
       "      <th>28</th>\n",
       "      <td>1. 모바일앱개발_교육</td>\n",
       "      <td>앱제작</td>\n",
       "      <td>4324</td>\n",
       "      <td>79.2</td>\n",
       "      <td>1.831637</td>\n",
       "      <td>4735.138889</td>\n",
       "      <td>375023</td>\n",
       "    </tr>\n",
       "    <tr>\n",
       "      <th>29</th>\n",
       "      <td>올인원 패키지 : 업무자동화_VBA</td>\n",
       "      <td>컴퓨터활용능력</td>\n",
       "      <td>139729</td>\n",
       "      <td>1534.8</td>\n",
       "      <td>1.098412</td>\n",
       "      <td>239.214881</td>\n",
       "      <td>367147</td>\n",
       "    </tr>\n",
       "    <tr>\n",
       "      <th>...</th>\n",
       "      <td>...</td>\n",
       "      <td>...</td>\n",
       "      <td>...</td>\n",
       "      <td>...</td>\n",
       "      <td>...</td>\n",
       "      <td>...</td>\n",
       "      <td>...</td>\n",
       "    </tr>\n",
       "    <tr>\n",
       "      <th>1351</th>\n",
       "      <td>올인원 패키지 : 업무자동화_3. 엑셀</td>\n",
       "      <td>엑셀변환</td>\n",
       "      <td>7732</td>\n",
       "      <td>0.0</td>\n",
       "      <td>0.000000</td>\n",
       "      <td>0.000000</td>\n",
       "      <td>0</td>\n",
       "    </tr>\n",
       "    <tr>\n",
       "      <th>1352</th>\n",
       "      <td>올인원 패키지 : 업무자동화_3. 엑셀</td>\n",
       "      <td>엑셀브이룩업</td>\n",
       "      <td>7756</td>\n",
       "      <td>0.0</td>\n",
       "      <td>0.000000</td>\n",
       "      <td>0.000000</td>\n",
       "      <td>0</td>\n",
       "    </tr>\n",
       "    <tr>\n",
       "      <th>1353</th>\n",
       "      <td>올인원 패키지 : 업무자동화_3. 엑셀</td>\n",
       "      <td>엑셀SUMIF</td>\n",
       "      <td>7814</td>\n",
       "      <td>0.0</td>\n",
       "      <td>0.000000</td>\n",
       "      <td>0.000000</td>\n",
       "      <td>0</td>\n",
       "    </tr>\n",
       "    <tr>\n",
       "      <th>1354</th>\n",
       "      <td>AOP 전체_중복키워드_마케팅</td>\n",
       "      <td>마케팅분석</td>\n",
       "      <td>7967</td>\n",
       "      <td>0.0</td>\n",
       "      <td>0.000000</td>\n",
       "      <td>0.000000</td>\n",
       "      <td>0</td>\n",
       "    </tr>\n",
       "    <tr>\n",
       "      <th>1355</th>\n",
       "      <td>올인원 패키지 : 업무자동화_3. 엑셀</td>\n",
       "      <td>엑셀IFERROR</td>\n",
       "      <td>8214</td>\n",
       "      <td>0.0</td>\n",
       "      <td>0.000000</td>\n",
       "      <td>0.000000</td>\n",
       "      <td>0</td>\n",
       "    </tr>\n",
       "    <tr>\n",
       "      <th>1356</th>\n",
       "      <td>올인원 패키지 : 그로스해킹_5.마케팅 분석</td>\n",
       "      <td>키워드분석</td>\n",
       "      <td>8693</td>\n",
       "      <td>0.0</td>\n",
       "      <td>0.000000</td>\n",
       "      <td>0.000000</td>\n",
       "      <td>0</td>\n",
       "    </tr>\n",
       "    <tr>\n",
       "      <th>1357</th>\n",
       "      <td>올인원 패키지 : 금융공학/퀀트_01.파이썬기본&amp;자동화</td>\n",
       "      <td>CDMA</td>\n",
       "      <td>8784</td>\n",
       "      <td>0.0</td>\n",
       "      <td>0.000000</td>\n",
       "      <td>0.000000</td>\n",
       "      <td>0</td>\n",
       "    </tr>\n",
       "    <tr>\n",
       "      <th>1358</th>\n",
       "      <td>올인원 패키지 : 업무자동화_3. 엑셀</td>\n",
       "      <td>엑셀고급필터</td>\n",
       "      <td>8792</td>\n",
       "      <td>0.0</td>\n",
       "      <td>0.000000</td>\n",
       "      <td>0.000000</td>\n",
       "      <td>0</td>\n",
       "    </tr>\n",
       "    <tr>\n",
       "      <th>1359</th>\n",
       "      <td>올인원 패키지 : 업무자동화_3. 엑셀</td>\n",
       "      <td>IFERROR함수</td>\n",
       "      <td>8864</td>\n",
       "      <td>0.0</td>\n",
       "      <td>0.000000</td>\n",
       "      <td>0.000000</td>\n",
       "      <td>0</td>\n",
       "    </tr>\n",
       "    <tr>\n",
       "      <th>1360</th>\n",
       "      <td>typescript 실전 workshop</td>\n",
       "      <td>생활코딩</td>\n",
       "      <td>8952</td>\n",
       "      <td>0.0</td>\n",
       "      <td>0.000000</td>\n",
       "      <td>0.000000</td>\n",
       "      <td>0</td>\n",
       "    </tr>\n",
       "    <tr>\n",
       "      <th>1361</th>\n",
       "      <td>올인원 패키지 : 그로스해킹_5.마케팅 분석</td>\n",
       "      <td>사이트순위</td>\n",
       "      <td>9282</td>\n",
       "      <td>0.0</td>\n",
       "      <td>0.000000</td>\n",
       "      <td>0.000000</td>\n",
       "      <td>0</td>\n",
       "    </tr>\n",
       "    <tr>\n",
       "      <th>1362</th>\n",
       "      <td>6.  컴퓨터구조</td>\n",
       "      <td>어셈블리어</td>\n",
       "      <td>9622</td>\n",
       "      <td>0.0</td>\n",
       "      <td>0.000000</td>\n",
       "      <td>0.000000</td>\n",
       "      <td>0</td>\n",
       "    </tr>\n",
       "    <tr>\n",
       "      <th>1363</th>\n",
       "      <td>올인원 패키지 : 업무자동화_3. 엑셀</td>\n",
       "      <td>INDEX함수</td>\n",
       "      <td>9715</td>\n",
       "      <td>0.0</td>\n",
       "      <td>0.000000</td>\n",
       "      <td>0.000000</td>\n",
       "      <td>0</td>\n",
       "    </tr>\n",
       "    <tr>\n",
       "      <th>1364</th>\n",
       "      <td>올인원 패키지 : 업무자동화_1. 자동화</td>\n",
       "      <td>IFRAME</td>\n",
       "      <td>10121</td>\n",
       "      <td>0.0</td>\n",
       "      <td>0.000000</td>\n",
       "      <td>0.000000</td>\n",
       "      <td>0</td>\n",
       "    </tr>\n",
       "    <tr>\n",
       "      <th>1365</th>\n",
       "      <td>리눅스 인프라</td>\n",
       "      <td>SDN</td>\n",
       "      <td>10405</td>\n",
       "      <td>0.0</td>\n",
       "      <td>0.000000</td>\n",
       "      <td>0.000000</td>\n",
       "      <td>0</td>\n",
       "    </tr>\n",
       "    <tr>\n",
       "      <th>1366</th>\n",
       "      <td>올인원 패키지 : 업무자동화_3. 엑셀</td>\n",
       "      <td>엑셀INDEXMATCH</td>\n",
       "      <td>10486</td>\n",
       "      <td>0.0</td>\n",
       "      <td>0.000000</td>\n",
       "      <td>0.000000</td>\n",
       "      <td>0</td>\n",
       "    </tr>\n",
       "    <tr>\n",
       "      <th>1367</th>\n",
       "      <td>올인원 패키지 : 금융공학/퀀트_01.파이썬기본&amp;자동화</td>\n",
       "      <td>XLSX</td>\n",
       "      <td>10574</td>\n",
       "      <td>0.0</td>\n",
       "      <td>0.000000</td>\n",
       "      <td>0.000000</td>\n",
       "      <td>0</td>\n",
       "    </tr>\n",
       "    <tr>\n",
       "      <th>1368</th>\n",
       "      <td>리눅스 인프라</td>\n",
       "      <td>HORIZON</td>\n",
       "      <td>10620</td>\n",
       "      <td>0.0</td>\n",
       "      <td>0.000000</td>\n",
       "      <td>0.000000</td>\n",
       "      <td>0</td>\n",
       "    </tr>\n",
       "    <tr>\n",
       "      <th>1369</th>\n",
       "      <td>Python &amp; Django를 활용한 웹 서비스_일반</td>\n",
       "      <td>AZURE</td>\n",
       "      <td>12898</td>\n",
       "      <td>0.0</td>\n",
       "      <td>0.000000</td>\n",
       "      <td>0.000000</td>\n",
       "      <td>0</td>\n",
       "    </tr>\n",
       "    <tr>\n",
       "      <th>1370</th>\n",
       "      <td>올인원 패키지 : 업무자동화_3. 엑셀</td>\n",
       "      <td>엑셀IF</td>\n",
       "      <td>15893</td>\n",
       "      <td>0.0</td>\n",
       "      <td>0.000000</td>\n",
       "      <td>0.000000</td>\n",
       "      <td>0</td>\n",
       "    </tr>\n",
       "    <tr>\n",
       "      <th>1371</th>\n",
       "      <td>7. 운영체제</td>\n",
       "      <td>가상머신</td>\n",
       "      <td>16605</td>\n",
       "      <td>0.0</td>\n",
       "      <td>0.000000</td>\n",
       "      <td>0.000000</td>\n",
       "      <td>0</td>\n",
       "    </tr>\n",
       "    <tr>\n",
       "      <th>1372</th>\n",
       "      <td>파이낸스 전체</td>\n",
       "      <td>부동산책</td>\n",
       "      <td>16722</td>\n",
       "      <td>0.0</td>\n",
       "      <td>0.000000</td>\n",
       "      <td>0.000000</td>\n",
       "      <td>0</td>\n",
       "    </tr>\n",
       "    <tr>\n",
       "      <th>1373</th>\n",
       "      <td>ㅍ올인원 패키지 : UX/UI 디자인 입문_연관검색어(삭제)</td>\n",
       "      <td>VD</td>\n",
       "      <td>17504</td>\n",
       "      <td>0.0</td>\n",
       "      <td>0.000000</td>\n",
       "      <td>0.000000</td>\n",
       "      <td>0</td>\n",
       "    </tr>\n",
       "    <tr>\n",
       "      <th>1374</th>\n",
       "      <td>AOP 전체_중복키워드_디자인</td>\n",
       "      <td>포토샵단축키</td>\n",
       "      <td>18818</td>\n",
       "      <td>0.0</td>\n",
       "      <td>0.000000</td>\n",
       "      <td>0.000000</td>\n",
       "      <td>0</td>\n",
       "    </tr>\n",
       "    <tr>\n",
       "      <th>1375</th>\n",
       "      <td>올인원 패키지 : 업무자동화_3. 엑셀</td>\n",
       "      <td>SUMIF</td>\n",
       "      <td>23549</td>\n",
       "      <td>0.0</td>\n",
       "      <td>0.000000</td>\n",
       "      <td>0.000000</td>\n",
       "      <td>0</td>\n",
       "    </tr>\n",
       "    <tr>\n",
       "      <th>1376</th>\n",
       "      <td>올인원 패키지 : 업무자동화_3. 엑셀</td>\n",
       "      <td>엑셀셀서식</td>\n",
       "      <td>24016</td>\n",
       "      <td>0.0</td>\n",
       "      <td>0.000000</td>\n",
       "      <td>0.000000</td>\n",
       "      <td>0</td>\n",
       "    </tr>\n",
       "    <tr>\n",
       "      <th>1377</th>\n",
       "      <td>올인원 패키지 : 업무자동화_3. 엑셀</td>\n",
       "      <td>MATCH</td>\n",
       "      <td>32287</td>\n",
       "      <td>0.0</td>\n",
       "      <td>0.000000</td>\n",
       "      <td>0.000000</td>\n",
       "      <td>0</td>\n",
       "    </tr>\n",
       "    <tr>\n",
       "      <th>1378</th>\n",
       "      <td>마케팅KPI수립</td>\n",
       "      <td>LTV</td>\n",
       "      <td>32602</td>\n",
       "      <td>0.0</td>\n",
       "      <td>0.000000</td>\n",
       "      <td>0.000000</td>\n",
       "      <td>0</td>\n",
       "    </tr>\n",
       "    <tr>\n",
       "      <th>1379</th>\n",
       "      <td>data_camp_rmp_8</td>\n",
       "      <td>DECISION</td>\n",
       "      <td>60844</td>\n",
       "      <td>0.0</td>\n",
       "      <td>0.000000</td>\n",
       "      <td>0.000000</td>\n",
       "      <td>0</td>\n",
       "    </tr>\n",
       "    <tr>\n",
       "      <th>1380</th>\n",
       "      <td>4. 웹의 동작</td>\n",
       "      <td>REST</td>\n",
       "      <td>61193</td>\n",
       "      <td>0.0</td>\n",
       "      <td>0.000000</td>\n",
       "      <td>0.000000</td>\n",
       "      <td>0</td>\n",
       "    </tr>\n",
       "  </tbody>\n",
       "</table>\n",
       "<p>1381 rows × 7 columns</p>\n",
       "</div>"
      ],
      "text/plain": [
       "                                   광고그룹           키워드      노출수     클릭수  \\\n",
       "0             올인원 패키지 : 디자인 툴_파워컨텐츠_포토샵             -  2319456  9606.0   \n",
       "1                   올인원 패키지 : 업무자동화_VBA             -   767491  8058.0   \n",
       "2                 ㅍAOP 전체_중복키워드_디자인(삭제)          일러스트  1137840   324.0   \n",
       "3            올인원 패키지 : 데이터 분석 입문 온라인_파콘             -   694106  1863.6   \n",
       "4                               3. html          HTML  9626374   813.6   \n",
       "5                                6. 파이썬           파이썬   384522   260.4   \n",
       "6                                 1. 코딩            코딩   562162   271.2   \n",
       "7                             2. C언어 일반           C언어   271370   153.6   \n",
       "8               프로그래밍 전체_파워컨텐츠_블록체인(삭제)          가상화폐    91369  2838.0   \n",
       "9                      AOP 전체_중복키워드_디자인           포토샵  1887822   393.6   \n",
       "10                 디지털 마케팅 스쿨 13기_대표키워드         마케팅교육    11661   140.4   \n",
       "11                            인스타그램 마케팅     인스타팔로워늘리기    36201   873.6   \n",
       "12                        블록체인 신사업 시작하기          블록체인   200243   236.4   \n",
       "13                    AOP 전체_중복키워드_비지니스            엑셀  1470452   450.0   \n",
       "14                  올인원 패키지 : 업무자동화_VBA         엑셀배우기    18588  2097.6   \n",
       "15                  올인원 패키지 : 업무자동화_VBA         엑셀자격증    37558  1770.0   \n",
       "16               올인원 패키지 : 업무자동화_2. 파이썬         파이썬교육     1226    56.4   \n",
       "17       올인원 패키지 : 1인 쇼핑몰 시작하기_00.창업_PC      인터넷쇼핑몰창업    17912   152.4   \n",
       "18          올인원 패키지 : 영상 제작/편집_6.프리미어프로          영상편집   125885    90.0   \n",
       "19                               6. 파이썬         파이썬인강     3175   196.8   \n",
       "20                         1. 모바일앱개발_교육          어플개발     8033    84.0   \n",
       "21         올인원 패키지 : UX/UI 디자인 입문_연관검색어       UIUX디자인     9627   118.8   \n",
       "22                                1. 코딩          코딩인강     2503   218.4   \n",
       "23                         1. 모바일앱개발_교육           앱개발    23962   103.2   \n",
       "24                         1. 모바일앱개발_교육          어플제작     6496    79.2   \n",
       "25              올인원 패키지 : 데이터 분석 입문(파컨)             -   139717   618.0   \n",
       "26            올인원 패키지 : 디자인 툴_파워컨텐츠_포토샵           포토샵   124068  2535.6   \n",
       "27            올인원 패키지 : 디자인 툴_파워컨텐츠_포토샵          영상편집    10710   278.4   \n",
       "28                         1. 모바일앱개발_교육           앱제작     4324    79.2   \n",
       "29                  올인원 패키지 : 업무자동화_VBA       컴퓨터활용능력   139729  1534.8   \n",
       "...                                 ...           ...      ...     ...   \n",
       "1351              올인원 패키지 : 업무자동화_3. 엑셀          엑셀변환     7732     0.0   \n",
       "1352              올인원 패키지 : 업무자동화_3. 엑셀        엑셀브이룩업     7756     0.0   \n",
       "1353              올인원 패키지 : 업무자동화_3. 엑셀       엑셀SUMIF     7814     0.0   \n",
       "1354                   AOP 전체_중복키워드_마케팅         마케팅분석     7967     0.0   \n",
       "1355              올인원 패키지 : 업무자동화_3. 엑셀     엑셀IFERROR     8214     0.0   \n",
       "1356           올인원 패키지 : 그로스해킹_5.마케팅 분석         키워드분석     8693     0.0   \n",
       "1357     올인원 패키지 : 금융공학/퀀트_01.파이썬기본&자동화          CDMA     8784     0.0   \n",
       "1358              올인원 패키지 : 업무자동화_3. 엑셀        엑셀고급필터     8792     0.0   \n",
       "1359              올인원 패키지 : 업무자동화_3. 엑셀     IFERROR함수     8864     0.0   \n",
       "1360             typescript 실전 workshop          생활코딩     8952     0.0   \n",
       "1361           올인원 패키지 : 그로스해킹_5.마케팅 분석         사이트순위     9282     0.0   \n",
       "1362                          6.  컴퓨터구조         어셈블리어     9622     0.0   \n",
       "1363              올인원 패키지 : 업무자동화_3. 엑셀       INDEX함수     9715     0.0   \n",
       "1364             올인원 패키지 : 업무자동화_1. 자동화        IFRAME    10121     0.0   \n",
       "1365                            리눅스 인프라           SDN    10405     0.0   \n",
       "1366              올인원 패키지 : 업무자동화_3. 엑셀  엑셀INDEXMATCH    10486     0.0   \n",
       "1367     올인원 패키지 : 금융공학/퀀트_01.파이썬기본&자동화          XLSX    10574     0.0   \n",
       "1368                            리눅스 인프라       HORIZON    10620     0.0   \n",
       "1369      Python & Django를 활용한 웹 서비스_일반         AZURE    12898     0.0   \n",
       "1370              올인원 패키지 : 업무자동화_3. 엑셀          엑셀IF    15893     0.0   \n",
       "1371                            7. 운영체제          가상머신    16605     0.0   \n",
       "1372                            파이낸스 전체          부동산책    16722     0.0   \n",
       "1373  ㅍ올인원 패키지 : UX/UI 디자인 입문_연관검색어(삭제)            VD    17504     0.0   \n",
       "1374                   AOP 전체_중복키워드_디자인        포토샵단축키    18818     0.0   \n",
       "1375              올인원 패키지 : 업무자동화_3. 엑셀         SUMIF    23549     0.0   \n",
       "1376              올인원 패키지 : 업무자동화_3. 엑셀         엑셀셀서식    24016     0.0   \n",
       "1377              올인원 패키지 : 업무자동화_3. 엑셀         MATCH    32287     0.0   \n",
       "1378                           마케팅KPI수립           LTV    32602     0.0   \n",
       "1379                    data_camp_rmp_8      DECISION    60844     0.0   \n",
       "1380                           4. 웹의 동작          REST    61193     0.0   \n",
       "\n",
       "         클릭률(%)  평균클릭비용(VAT포함,원)  총비용(VAT포함,원)  \n",
       "0      0.414149       261.549448       2512444  \n",
       "1      1.049915       295.974808       2384965  \n",
       "2      0.028475      4841.663580       1568699  \n",
       "3      0.268489       630.593475       1175174  \n",
       "4      0.008452      1408.435349       1145903  \n",
       "5      0.067720      3705.360983        964876  \n",
       "6      0.048242      3243.215339        879560  \n",
       "7      0.056602      5269.257812        809358  \n",
       "8      3.106086       283.217054        803770  \n",
       "9      0.020849      1913.737297        753247  \n",
       "10     1.204013      5001.631054        702229  \n",
       "11     2.413193       769.005266        671803  \n",
       "12     0.118057      2721.988156        643478  \n",
       "13     0.030603      1408.660000        633897  \n",
       "14    11.284700       268.340008        562870  \n",
       "15     4.712711       288.802825        511181  \n",
       "16     4.600326      8831.010638        498069  \n",
       "17     0.850826      3200.104987        487696  \n",
       "18     0.071494      5367.022222        483032  \n",
       "19     6.198425      2431.234756        478467  \n",
       "20     1.045687      5427.845238        455939  \n",
       "21     1.234029      3684.907407        437767  \n",
       "22     8.725529      1962.774725        428670  \n",
       "23     0.430682      3983.449612        411092  \n",
       "24     1.219212      5185.000000        410652  \n",
       "25     0.442323       636.451456        393327  \n",
       "26     2.043718       150.401877        381359  \n",
       "27     2.599440      1352.794540        376618  \n",
       "28     1.831637      4735.138889        375023  \n",
       "29     1.098412       239.214881        367147  \n",
       "...         ...              ...           ...  \n",
       "1351   0.000000         0.000000             0  \n",
       "1352   0.000000         0.000000             0  \n",
       "1353   0.000000         0.000000             0  \n",
       "1354   0.000000         0.000000             0  \n",
       "1355   0.000000         0.000000             0  \n",
       "1356   0.000000         0.000000             0  \n",
       "1357   0.000000         0.000000             0  \n",
       "1358   0.000000         0.000000             0  \n",
       "1359   0.000000         0.000000             0  \n",
       "1360   0.000000         0.000000             0  \n",
       "1361   0.000000         0.000000             0  \n",
       "1362   0.000000         0.000000             0  \n",
       "1363   0.000000         0.000000             0  \n",
       "1364   0.000000         0.000000             0  \n",
       "1365   0.000000         0.000000             0  \n",
       "1366   0.000000         0.000000             0  \n",
       "1367   0.000000         0.000000             0  \n",
       "1368   0.000000         0.000000             0  \n",
       "1369   0.000000         0.000000             0  \n",
       "1370   0.000000         0.000000             0  \n",
       "1371   0.000000         0.000000             0  \n",
       "1372   0.000000         0.000000             0  \n",
       "1373   0.000000         0.000000             0  \n",
       "1374   0.000000         0.000000             0  \n",
       "1375   0.000000         0.000000             0  \n",
       "1376   0.000000         0.000000             0  \n",
       "1377   0.000000         0.000000             0  \n",
       "1378   0.000000         0.000000             0  \n",
       "1379   0.000000         0.000000             0  \n",
       "1380   0.000000         0.000000             0  \n",
       "\n",
       "[1381 rows x 7 columns]"
      ]
     },
     "execution_count": 6,
     "metadata": {},
     "output_type": "execute_result"
    }
   ],
   "source": [
    "df"
   ]
  },
  {
   "cell_type": "code",
   "execution_count": 13,
   "metadata": {
    "scrolled": true
   },
   "outputs": [
    {
     "data": {
      "image/png": "[encoded data removed]",
      "text/plain": [
       "<Figure size 936x360 with 1 Axes>"
      ]
     },
     "metadata": {
      "needs_background": "light"
     },
     "output_type": "display_data"
    }
   ],
   "source": [
    "((((df['노출수'].sort_values())/1000).reset_index()).drop('index',axis=1)).plot(figsize=[13,5])\n",
    "plt.yticks([0,2000,4000,6000,8000,10000],[0,'2,000,000','4,000,000','6,000,000','8,000,000','10,000,000'])\n",
    "plt.title('노출수 plot',fontsize=20)\n",
    "plt.show()"
   ]
  },
  {
   "attachments": {
    "matplotlib.JPG": {
     "image/jpeg": "[encoded data removed]"
    }
   },
   "cell_type": "markdown",
   "metadata": {},
   "source": [
    "<br><br><br>\n",
    "![matplotlib.JPG](attachment:matplotlib.JPG)\n",
    "<br>\n",
    "- 시각화 라이브러리 matplotlib\n",
    "- matplotlib은 pandas의 데이터프레임, 시리즈 자료구조와 함께 사용 가능 \n",
    "- 따라서 데이터 처리와 동시에 시각화도 함께 진행할 수 있음\n",
    "- 아나콘다(anaconda)를 설치했다면 별도의 설치과정이 필요 없음"
   ]
  },
  {
   "cell_type": "code",
   "execution_count": 19,
   "metadata": {},
   "outputs": [],
   "source": [
    "# matplotlib import\n",
    "import matplotlib.pyplot as plt"
   ]
  },
  {
   "cell_type": "code",
   "execution_count": 20,
   "metadata": {},
   "outputs": [],
   "source": [
    "# pandas, DataFrame, Series import\n",
    "import pandas as pd\n",
    "from pandas import DataFrame\n",
    "from pandas import Series"
   ]
  },
  {
   "cell_type": "code",
   "execution_count": 5,
   "metadata": {},
   "outputs": [],
   "source": [
    "# matplotlib 한글 폰트 출력코드\n",
    "# 출처 : 데이터공방( https://kiddwannabe.blog.me)\n",
    "\n",
    "import matplotlib\n",
    "from matplotlib import font_manager, rc\n",
    "import platform\n",
    "\n",
    "try : \n",
    "    if platform.system() == 'Windows':\n",
    "    # 윈도우인 경우\n",
    "        font_name = font_manager.FontProperties(fname=\"c:/Windows/Fonts/malgun.ttf\").get_name()\n",
    "        rc('font', family=font_name)\n",
    "    else:    \n",
    "    # Mac 인 경우\n",
    "        rc('font', family='AppleGothic')\n",
    "except : \n",
    "    pass\n",
    "matplotlib.rcParams['axes.unicode_minus'] = False   "
   ]
  },
  {
   "cell_type": "markdown",
   "metadata": {},
   "source": [
    "### # 데이터프레임 시각화"
   ]
  },
  {
   "cell_type": "code",
   "execution_count": 6,
   "metadata": {},
   "outputs": [],
   "source": [
    "#데이터프레임 변수 생성\n",
    "dict_data={\"철수\":[1,2,3,4],\"영희\":[2,3,4,5],\"민수\":[3,4,5,6],\"수진\":[4,5,6,7]}\n",
    "df=DataFrame(dict_data)"
   ]
  },
  {
   "cell_type": "code",
   "execution_count": 7,
   "metadata": {
    "scrolled": true
   },
   "outputs": [
    {
     "data": {
      "text/html": [
       "<div>\n",
       "<style scoped>\n",
       "    .dataframe tbody tr th:only-of-type {\n",
       "        vertical-align: middle;\n",
       "    }\n",
       "\n",
       "    .dataframe tbody tr th {\n",
       "        vertical-align: top;\n",
       "    }\n",
       "\n",
       "    .dataframe thead th {\n",
       "        text-align: right;\n",
       "    }\n",
       "</style>\n",
       "<table border=\"1\" class=\"dataframe\">\n",
       "  <thead>\n",
       "    <tr style=\"text-align: right;\">\n",
       "      <th></th>\n",
       "      <th>철수</th>\n",
       "      <th>영희</th>\n",
       "      <th>민수</th>\n",
       "      <th>수진</th>\n",
       "    </tr>\n",
       "  </thead>\n",
       "  <tbody>\n",
       "    <tr>\n",
       "      <th>0</th>\n",
       "      <td>1</td>\n",
       "      <td>2</td>\n",
       "      <td>3</td>\n",
       "      <td>4</td>\n",
       "    </tr>\n",
       "    <tr>\n",
       "      <th>1</th>\n",
       "      <td>2</td>\n",
       "      <td>3</td>\n",
       "      <td>4</td>\n",
       "      <td>5</td>\n",
       "    </tr>\n",
       "    <tr>\n",
       "      <th>2</th>\n",
       "      <td>3</td>\n",
       "      <td>4</td>\n",
       "      <td>5</td>\n",
       "      <td>6</td>\n",
       "    </tr>\n",
       "    <tr>\n",
       "      <th>3</th>\n",
       "      <td>4</td>\n",
       "      <td>5</td>\n",
       "      <td>6</td>\n",
       "      <td>7</td>\n",
       "    </tr>\n",
       "  </tbody>\n",
       "</table>\n",
       "</div>"
      ],
      "text/plain": [
       "   철수  영희  민수  수진\n",
       "0   1   2   3   4\n",
       "1   2   3   4   5\n",
       "2   3   4   5   6\n",
       "3   4   5   6   7"
      ]
     },
     "execution_count": 7,
     "metadata": {},
     "output_type": "execute_result"
    }
   ],
   "source": [
    "df"
   ]
  },
  {
   "cell_type": "markdown",
   "metadata": {},
   "source": [
    "### # 차트 그리기"
   ]
  },
  {
   "cell_type": "code",
   "execution_count": 8,
   "metadata": {},
   "outputs": [
    {
     "data": {
      "image/png": "[encoded data removed]",
      "text/plain": [
       "<Figure size 432x288 with 1 Axes>"
      ]
     },
     "metadata": {
      "needs_background": "light"
     },
     "output_type": "display_data"
    }
   ],
   "source": [
    "# 선그래프 \n",
    "df.plot()\n",
    "plt.show()"
   ]
  },
  {
   "cell_type": "code",
   "execution_count": 11,
   "metadata": {},
   "outputs": [
    {
     "data": {
      "image/png": "[encoded data removed]",
      "text/plain": [
       "<Figure size 432x288 with 1 Axes>"
      ]
     },
     "metadata": {
      "needs_background": "light"
     },
     "output_type": "display_data"
    }
   ],
   "source": [
    "# 막대그래프\n",
    "df.plot.bar()\n",
    "plt.show()"
   ]
  },
  {
   "cell_type": "code",
   "execution_count": 12,
   "metadata": {
    "scrolled": true
   },
   "outputs": [
    {
     "data": {
      "text/plain": [
       "<function matplotlib.pyplot.show(close=None, block=None)>"
      ]
     },
     "execution_count": 12,
     "metadata": {},
     "output_type": "execute_result"
    },
    {
     "data": {
      "image/png": "[encoded data removed]",
      "text/plain": [
       "<Figure size 432x288 with 1 Axes>"
      ]
     },
     "metadata": {
      "needs_background": "light"
     },
     "output_type": "display_data"
    }
   ],
   "source": [
    "# 가로막대그래프\n",
    "df.plot.barh()\n",
    "plt.show"
   ]
  },
  {
   "cell_type": "code",
   "execution_count": 13,
   "metadata": {
    "scrolled": true
   },
   "outputs": [
    {
     "data": {
      "image/png": "[encoded data removed]",
      "text/plain": [
       "<Figure size 432x288 with 1 Axes>"
      ]
     },
     "metadata": {
      "needs_background": "light"
     },
     "output_type": "display_data"
    }
   ],
   "source": [
    "# 히스토그램\n",
    "df.plot.hist()\n",
    "plt.show()"
   ]
  },
  {
   "cell_type": "code",
   "execution_count": 14,
   "metadata": {
    "scrolled": false
   },
   "outputs": [
    {
     "data": {
      "image/png": "[encoded data removed]",
      "text/plain": [
       "<Figure size 432x288 with 1 Axes>"
      ]
     },
     "metadata": {
      "needs_background": "light"
     },
     "output_type": "display_data"
    }
   ],
   "source": [
    "# 히스토그램 구간설정\n",
    "df.plot.hist(bins=range(1, 9, 1))   #1~ 8까지 1씩 만들어짐\n",
    "plt.show()"
   ]
  },
  {
   "cell_type": "markdown",
   "metadata": {},
   "source": [
    "### # 차트에 옵션 추가하기"
   ]
  },
  {
   "cell_type": "code",
   "execution_count": 15,
   "metadata": {
    "scrolled": true
   },
   "outputs": [
    {
     "data": {
      "image/png": "[encoded data removed]",
      "text/plain": [
       "<Figure size 432x288 with 1 Axes>"
      ]
     },
     "metadata": {
      "needs_background": "light"
     },
     "output_type": "display_data"
    }
   ],
   "source": [
    "# 기본 막대그래프\n",
    "\n",
    "df.plot.bar()\n",
    "plt.show()"
   ]
  },
  {
   "cell_type": "code",
   "execution_count": 71,
   "metadata": {
    "scrolled": true
   },
   "outputs": [
    {
     "data": {
      "image/png": "[encoded data removed]",
      "text/plain": [
       "<Figure size 648x360 with 1 Axes>"
      ]
     },
     "metadata": {
      "needs_background": "light"
     },
     "output_type": "display_data"
    }
   ],
   "source": [
    "# 그래프 크기 설정    figsize[x축, y축]\n",
    "df.plot.bar(figsize=[9, 5])\n",
    "plt.show()"
   ]
  },
  {
   "cell_type": "code",
   "execution_count": 72,
   "metadata": {
    "scrolled": true
   },
   "outputs": [
    {
     "data": {
      "image/png": "[encoded data removed]",
      "text/plain": [
       "<Figure size 648x360 with 1 Axes>"
      ]
     },
     "metadata": {
      "needs_background": "light"
     },
     "output_type": "display_data"
    }
   ],
   "source": [
    "# 제목설정\n",
    "df.plot.bar(figsize = [9, 5])\n",
    "plt.title('예제')\n",
    "plt.show()"
   ]
  },
  {
   "cell_type": "code",
   "execution_count": 23,
   "metadata": {},
   "outputs": [
    {
     "data": {
      "image/png": "[encoded data removed]",
      "text/plain": [
       "<Figure size 720x432 with 1 Axes>"
      ]
     },
     "metadata": {
      "needs_background": "light"
     },
     "output_type": "display_data"
    }
   ],
   "source": [
    "# 제목 폰트 크기 설정\n",
    "df.plot.bar(figsize = [10,6])\n",
    "plt.title('예제',fontsize = 18 )\n",
    "plt.show()"
   ]
  },
  {
   "cell_type": "code",
   "execution_count": 24,
   "metadata": {},
   "outputs": [
    {
     "data": {
      "text/plain": [
       "<function matplotlib.pyplot.show(close=None, block=None)>"
      ]
     },
     "execution_count": 24,
     "metadata": {},
     "output_type": "execute_result"
    },
    {
     "data": {
      "image/png": "[encoded data removed]",
      "text/plain": [
       "<Figure size 1152x720 with 1 Axes>"
      ]
     },
     "metadata": {
      "needs_background": "light"
     },
     "output_type": "display_data"
    }
   ],
   "source": [
    "# x축 이름 설정\n",
    "df.plot.bar(figsize = [16, 10])\n",
    "plt.title('예제', fontsize=18)\n",
    "plt.xlabel('xlabel')\n",
    "plt.show"
   ]
  },
  {
   "cell_type": "code",
   "execution_count": 26,
   "metadata": {},
   "outputs": [
    {
     "data": {
      "image/png": "[encoded data removed]",
      "text/plain": [
       "<Figure size 720x432 with 1 Axes>"
      ]
     },
     "metadata": {
      "needs_background": "light"
     },
     "output_type": "display_data"
    }
   ],
   "source": [
    "# x축 이름 및 폰트크기 설정\n",
    "df.plot.bar(figsize = [10,6])\n",
    "plt.title('예제', fontsize = 18)\n",
    "plt.xlabel('xlabel', fontsize = 15)\n",
    "plt.show()"
   ]
  },
  {
   "cell_type": "code",
   "execution_count": 27,
   "metadata": {},
   "outputs": [
    {
     "data": {
      "image/png": "[encoded data removed]",
      "text/plain": [
       "<Figure size 720x432 with 1 Axes>"
      ]
     },
     "metadata": {
      "needs_background": "light"
     },
     "output_type": "display_data"
    }
   ],
   "source": [
    "# y축 이름 및 폰트 크기 설정 \n",
    "df.plot.bar(figsize = [10, 6])\n",
    "plt.title('예제', fontsize = 18)\n",
    "plt.xlabel('xlabel', fontsize =15)\n",
    "plt.ylabel('ylabel', fontsize = 15)\n",
    "plt.show()"
   ]
  },
  {
   "cell_type": "code",
   "execution_count": 29,
   "metadata": {},
   "outputs": [
    {
     "data": {
      "image/png": "[encoded data removed]",
      "text/plain": [
       "<Figure size 720x432 with 1 Axes>"
      ]
     },
     "metadata": {
      "needs_background": "light"
     },
     "output_type": "display_data"
    }
   ],
   "source": [
    "# x축 눈금설정\n",
    "# 설정할 눈금의 위치, 눈금의 이름, 폰트사이즈, 각도\n",
    "\n",
    "df.plot.bar(figsize = [10, 6])\n",
    "plt.title('예제',fontsize = 18 )\n",
    "plt.xlabel('xlabel', fontsize = 16)\n",
    "plt.ylabel('ylabel', fontsize = 16)\n",
    "plt.xticks([0, 1, 2], ['첫째', '둘째', '셋째'], fontsize= 10, rotation = 0)\n",
    "# rotation 글씨 돌리기 \n",
    "plt.show()"
   ]
  },
  {
   "cell_type": "code",
   "execution_count": 33,
   "metadata": {},
   "outputs": [
    {
     "data": {
      "image/png": "[encoded data removed]",
      "text/plain": [
       "<Figure size 720x432 with 1 Axes>"
      ]
     },
     "metadata": {
      "needs_background": "light"
     },
     "output_type": "display_data"
    }
   ],
   "source": [
    "# y축 눈금설정\n",
    "df.plot.bar(figsize =[10, 6])\n",
    "plt.title('예제', fontsize = 18)\n",
    "plt.xlabel('xlabel', fontsize = 16)\n",
    "plt.ylabel('ylabel', fontsize = 16, rotation = 0)\n",
    "plt.xticks([0,1,2], ['첫쨰', '둘째','셋째'], fontsize = 10, rotation = 0)\n",
    "plt.yticks([1, 3, 5, 7], ['첫째', '둘쨰', '다섯째', '일곱번째'], fontsize = 10)\n",
    "plt.show()"
   ]
  },
  {
   "cell_type": "code",
   "execution_count": 40,
   "metadata": {},
   "outputs": [
    {
     "data": {
      "image/png": "[encoded data removed]",
      "text/plain": [
       "<Figure size 720x432 with 1 Axes>"
      ]
     },
     "metadata": {
      "needs_background": "light"
     },
     "output_type": "display_data"
    }
   ],
   "source": [
    "# x축 범위설정 xlim([ , ])\n",
    "df.plot.bar(figsize = [10, 6])\n",
    "plt.title('예제', fontsize = 18)\n",
    "plt.xlabel('xlabel', fontsize = 16, )\n",
    "plt.ylabel('ylabel', fontsize = 16, rotation = 0)\n",
    "plt.xticks([0, 1, 2], ['첫째', '둘째', '셋째'],fontsize= 8, rotation = 0)\n",
    "plt.yticks([1,3, 5, 7],['첫째','둘째', '다섯째', '일곱번째'], fontsize = 8)\n",
    "plt.xlim([-1, 4])\n",
    "plt.show()"
   ]
  },
  {
   "cell_type": "code",
   "execution_count": 73,
   "metadata": {
    "scrolled": true
   },
   "outputs": [
    {
     "data": {
      "image/png": "[encoded data removed]",
      "text/plain": [
       "<Figure size 648x360 with 1 Axes>"
      ]
     },
     "metadata": {
      "needs_background": "light"
     },
     "output_type": "display_data"
    }
   ],
   "source": [
    "# y축 범위설정\n",
    "df.plot.bar(figsize = [9,5])\n",
    "plt.title('예제', fontsize = 18)\n",
    "plt.xlabel('xlabel', fontsize = 16)\n",
    "plt.ylabel('ylabel', fontsize = 16, rotation = 0)\n",
    "plt.xticks([0, 1, 2], ['첫째', '둘째', '셋째'], fontsize = 10, rotation = 0)\n",
    "plt.yticks([1, 3, 5, 7], ['첫째', '셋째', '다섯쨰', '일곱번째'], fontsize = 10)\n",
    "plt.xlim([-1, 4])\n",
    "plt.ylim([0,8])\n",
    "plt.show()\n"
   ]
  },
  {
   "cell_type": "markdown",
   "metadata": {},
   "source": [
    "### # 시리즈 시각화"
   ]
  },
  {
   "cell_type": "code",
   "execution_count": 45,
   "metadata": {},
   "outputs": [
    {
     "data": {
      "text/plain": [
       "0    1\n",
       "1    2\n",
       "2    3\n",
       "3    4\n",
       "Name: 철수, dtype: int64"
      ]
     },
     "execution_count": 45,
     "metadata": {},
     "output_type": "execute_result"
    }
   ],
   "source": [
    "# 데이터프레임 열 = 시리즈ㅁ\n",
    "df['철수']"
   ]
  },
  {
   "cell_type": "code",
   "execution_count": 48,
   "metadata": {},
   "outputs": [
    {
     "data": {
      "image/png": "[encoded data removed]",
      "text/plain": [
       "<Figure size 432x288 with 1 Axes>"
      ]
     },
     "metadata": {
      "needs_background": "light"
     },
     "output_type": "display_data"
    }
   ],
   "source": [
    "# 선그래프\n",
    "df['철수'].plot()\n",
    "plt.show()"
   ]
  },
  {
   "cell_type": "code",
   "execution_count": 53,
   "metadata": {},
   "outputs": [
    {
     "data": {
      "image/png": "[encoded data removed]",
      "text/plain": [
       "<Figure size 432x288 with 1 Axes>"
      ]
     },
     "metadata": {
      "needs_background": "light"
     },
     "output_type": "display_data"
    }
   ],
   "source": [
    "# 막대그래프\n",
    "df['철수'].plot.bar()\n",
    "plt.xticks([0, 1, 2, 3],rotation=0)\n",
    "plt.show()"
   ]
  },
  {
   "cell_type": "code",
   "execution_count": 54,
   "metadata": {},
   "outputs": [
    {
     "data": {
      "image/png": "[encoded data removed]",
      "text/plain": [
       "<Figure size 432x288 with 1 Axes>"
      ]
     },
     "metadata": {
      "needs_background": "light"
     },
     "output_type": "display_data"
    }
   ],
   "source": [
    "# 가로막대그래프\n",
    "df['철수'].plot.barh()\n",
    "plt.show()"
   ]
  },
  {
   "cell_type": "code",
   "execution_count": 56,
   "metadata": {
    "scrolled": true
   },
   "outputs": [
    {
     "data": {
      "image/png": "[encoded data removed]",
      "text/plain": [
       "<Figure size 432x288 with 1 Axes>"
      ]
     },
     "metadata": {
      "needs_background": "light"
     },
     "output_type": "display_data"
    }
   ],
   "source": [
    "# 히스토그램(구간설정)\n",
    "df['철수'].plot.hist(bins=range(1, 6, 1))\n",
    "plt.show()"
   ]
  },
  {
   "cell_type": "markdown",
   "metadata": {},
   "source": [
    "### # 차트에 옵션 추가하기"
   ]
  },
  {
   "cell_type": "code",
   "execution_count": 57,
   "metadata": {
    "scrolled": true
   },
   "outputs": [
    {
     "data": {
      "image/png": "[encoded data removed]",
      "text/plain": [
       "<Figure size 432x288 with 1 Axes>"
      ]
     },
     "metadata": {
      "needs_background": "light"
     },
     "output_type": "display_data"
    }
   ],
   "source": [
    "df['철수'].plot.bar()\n",
    "plt.xticks(rotation=0)\n",
    "plt.show()"
   ]
  },
  {
   "cell_type": "code",
   "execution_count": 59,
   "metadata": {
    "scrolled": true
   },
   "outputs": [
    {
     "data": {
      "image/png": "[encoded data removed]",
      "text/plain": [
       "<Figure size 720x432 with 1 Axes>"
      ]
     },
     "metadata": {
      "needs_background": "light"
     },
     "output_type": "display_data"
    }
   ],
   "source": [
    "df['철수'].plot.bar(figsize = [10, 6])\n",
    "plt.title('철수', fontsize = 16)\n",
    "plt.xlabel('xlabel', fontsize = 14)\n",
    "plt.ylabel('ylabel', fontsize=14, rotation = 0)\n",
    "plt.xticks([0, 1, 2], ['첫째', '둘째', '셋째'], fontsize = 10, rotation = 0)\n",
    "plt.yticks([1, 3, 5],['첫째', '셋째', '다섯째'], fontsize = 10)\n",
    "plt.xlim([-1, 5])\n",
    "plt.ylim([0, 6])\n",
    "plt.show()\n"
   ]
  },
  {
   "cell_type": "code",
   "execution_count": null,
   "metadata": {},
   "outputs": [],
   "source": []
  }
 ],
 "metadata": {
  "kernelspec": {
   "display_name": "Python 3 (ipykernel)",
   "language": "python",
   "name": "python3"
  },
  "language_info": {
   "codemirror_mode": {
    "name": "ipython",
    "version": 3
   },
   "file_extension": ".py",
   "mimetype": "text/x-python",
   "name": "python",
   "nbconvert_exporter": "python",
   "pygments_lexer": "ipython3",
   "version": "3.9.7"
  }
 },
 "nbformat": 4,
 "nbformat_minor": 2
}
